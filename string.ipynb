{
 "cells": [
  {
   "cell_type": "markdown",
   "id": "fa6cdfed",
   "metadata": {},
   "source": [
    "# STRING CREATION"
   ]
  },
  {
   "cell_type": "code",
   "execution_count": 6,
   "id": "c5bd4491",
   "metadata": {},
   "outputs": [
    {
     "name": "stdout",
     "output_type": "stream",
     "text": [
      "apple banana this is \n",
      "       choclate\n",
      "       cake\n"
     ]
    }
   ],
   "source": [
    "a = 'apple'\n",
    "b = \"banana\"\n",
    "c = '''this is \n",
    "       choclate\n",
    "       cake'''\n",
    "print(a,b,c)\n",
    "\n"
   ]
  },
  {
   "cell_type": "markdown",
   "id": "70beb482",
   "metadata": {},
   "source": [
    "# TYPE CASTING"
   ]
  },
  {
   "cell_type": "code",
   "execution_count": 7,
   "id": "1cd85aa7",
   "metadata": {},
   "outputs": [
    {
     "name": "stdout",
     "output_type": "stream",
     "text": [
      "10 <class 'str'>\n",
      "['apple', 'banana'] <class 'str'>\n"
     ]
    }
   ],
   "source": [
    "x=str(10)\n",
    "y=str([\"apple\",\"banana\"])\n",
    "print(x, type(x))\n",
    "print(y, type(y))"
   ]
  },
  {
   "cell_type": "markdown",
   "id": "b0ef79df",
   "metadata": {},
   "source": [
    "# slicing and indexing"
   ]
  },
  {
   "cell_type": "code",
   "execution_count": 8,
   "id": "c80c3589",
   "metadata": {},
   "outputs": [
    {
     "name": "stdout",
     "output_type": "stream",
     "text": [
      "thepointis,i am not disappointed\n"
     ]
    }
   ],
   "source": [
    "x='disappointed'\n",
    "y=x[5:10]\n",
    "print(f\"the{y}is,i am not {x}\")\n"
   ]
  },
  {
   "cell_type": "markdown",
   "id": "2ab8e789",
   "metadata": {},
   "source": [
    "# function in str"
   ]
  },
  {
   "cell_type": "code",
   "execution_count": 9,
   "id": "00d8404e",
   "metadata": {},
   "outputs": [
    {
     "name": "stdout",
     "output_type": "stream",
     "text": [
      "johny johny yes papa\n",
      "         telling lies no papa \n",
      "         open your mouth\n",
      "         ha ha ha\n"
     ]
    }
   ],
   "source": [
    "poem ='''johny johny yes papa\n",
    "         telling lies no papa \n",
    "         open your mouth\n",
    "         ha ha ha'''\n",
    "print(poem)\n",
    "y=poem[0:19]\n",
    "y=poem[23:43]"
   ]
  },
  {
   "cell_type": "code",
   "execution_count": 10,
   "id": "28eeec6e",
   "metadata": {},
   "outputs": [
    {
     "name": "stdout",
     "output_type": "stream",
     "text": [
      "maintain silence in library\n",
      "MAINTAIN SILENCE IN LIBRARY\n"
     ]
    }
   ],
   "source": [
    "s=\"maintain silence in library\"\n",
    "supper=s.upper()\n",
    "print(s)\n",
    "print(supper)"
   ]
  },
  {
   "cell_type": "code",
   "execution_count": 11,
   "id": "7fa9688b",
   "metadata": {},
   "outputs": [
    {
     "name": "stdout",
     "output_type": "stream",
     "text": [
      "MAINTAIN SILENCE IN LIBRARY\n"
     ]
    }
   ],
   "source": [
    "s=\"maintain silence in library\"\n",
    "supper=s.swapcase()\n",
    "print(supper)"
   ]
  },
  {
   "cell_type": "code",
   "execution_count": 12,
   "id": "fe3f4139",
   "metadata": {},
   "outputs": [
    {
     "name": "stdout",
     "output_type": "stream",
     "text": [
      "Maintain silence in library\n"
     ]
    }
   ],
   "source": [
    "s=\"maintain silence in library\"\n",
    "supper=s.capitalize()\n",
    "print(supper)"
   ]
  },
  {
   "cell_type": "code",
   "execution_count": 13,
   "id": "d286529b",
   "metadata": {},
   "outputs": [
    {
     "name": "stdout",
     "output_type": "stream",
     "text": [
      "maintain sience in library\n"
     ]
    }
   ],
   "source": [
    "s=\"maintain sience in library\"\n",
    "supper=s.lower()\n",
    "print(supper)"
   ]
  },
  {
   "cell_type": "code",
   "execution_count": 14,
   "id": "f51e3ded",
   "metadata": {},
   "outputs": [
    {
     "name": "stdout",
     "output_type": "stream",
     "text": [
      "Maintain Silence In Library\n"
     ]
    }
   ],
   "source": [
    "s=\"maintain silence in library\"\n",
    "supper=s.title()\n",
    "print(supper)"
   ]
  },
  {
   "cell_type": "code",
   "execution_count": 15,
   "id": "43135f6e",
   "metadata": {},
   "outputs": [
    {
     "name": "stdout",
     "output_type": "stream",
     "text": [
      "maintain silence in library\n",
      "maintain silence in library\n"
     ]
    }
   ],
   "source": [
    "s=\"maintain silence in library\"\n",
    "supper=s.casefold()\n",
    "print(s)\n",
    "print(supper)"
   ]
  },
  {
   "cell_type": "code",
   "execution_count": 16,
   "id": "e292e4eb",
   "metadata": {},
   "outputs": [
    {
     "name": "stdout",
     "output_type": "stream",
     "text": [
      "5\n"
     ]
    }
   ],
   "source": [
    "a=\"seven\"\n",
    "size=len(a)\n",
    "print(size)"
   ]
  },
  {
   "cell_type": "code",
   "execution_count": 17,
   "id": "1cee323d",
   "metadata": {},
   "outputs": [
    {
     "name": "stdout",
     "output_type": "stream",
     "text": [
      "seven\n",
      "seven     \n",
      "seven-----\n",
      "|||||||||||||||seven\n",
      "               seven\n",
      "****seven****\n"
     ]
    }
   ],
   "source": [
    "a='seven'\n",
    "al=a.ljust(10)\n",
    "print(a)\n",
    "print(al)\n",
    "a2=a.ljust(10,'-')\n",
    "print(a2)\n",
    "a3=a.rjust(20,'|')\n",
    "a4=a.rjust(20)\n",
    "a5=a.center(13,'*')\n",
    "print(a3,a4,a5,sep='\\n')"
   ]
  },
  {
   "cell_type": "code",
   "execution_count": 18,
   "id": "360a3e85",
   "metadata": {},
   "outputs": [
    {
     "name": "stdout",
     "output_type": "stream",
     "text": [
      "seven\n",
      "seven\n"
     ]
    }
   ],
   "source": [
    "a=\"seven\"\n",
    "a1=a.ljust(10)\n",
    "print(a)\n",
    "print(a)"
   ]
  },
  {
   "cell_type": "code",
   "execution_count": 19,
   "id": "db4e8766",
   "metadata": {},
   "outputs": [
    {
     "name": "stdout",
     "output_type": "stream",
     "text": [
      "\n"
     ]
    }
   ],
   "source": [
    "x=input()\n",
    "print(x)\n"
   ]
  },
  {
   "cell_type": "code",
   "execution_count": 20,
   "id": "be2bfcef",
   "metadata": {},
   "outputs": [
    {
     "name": "stdout",
     "output_type": "stream",
     "text": [
      "\n",
      "False\n"
     ]
    }
   ],
   "source": [
    "x=input()\n",
    "print()\n",
    "print(x.isalpha())\n",
    "\n",
    "\n",
    "\n",
    "\n"
   ]
  },
  {
   "cell_type": "code",
   "execution_count": 21,
   "id": "9c5a4df9",
   "metadata": {},
   "outputs": [
    {
     "name": "stdout",
     "output_type": "stream",
     "text": [
      "\n",
      "False\n"
     ]
    }
   ],
   "source": [
    "x=input()\n",
    "print()\n",
    "print(x.isdigit())"
   ]
  },
  {
   "cell_type": "code",
   "execution_count": 22,
   "id": "4c2fc9db",
   "metadata": {},
   "outputs": [
    {
     "name": "stdout",
     "output_type": "stream",
     "text": [
      "\n",
      "False\n"
     ]
    }
   ],
   "source": [
    "x=input()\n",
    "print()\n",
    "print(x.isspace())"
   ]
  },
  {
   "cell_type": "code",
   "execution_count": 23,
   "id": "66326169",
   "metadata": {},
   "outputs": [
    {
     "name": "stdout",
     "output_type": "stream",
     "text": [
      "0\n",
      "10\n"
     ]
    }
   ],
   "source": [
    "num=0\n",
    "print(num)\n",
    "print(10)"
   ]
  },
  {
   "cell_type": "code",
   "execution_count": 24,
   "id": "cb240edd",
   "metadata": {},
   "outputs": [
    {
     "name": "stdout",
     "output_type": "stream",
     "text": [
      "once upon a time twice upon a time\n"
     ]
    }
   ],
   "source": [
    "s = \"once upon a time\"\n",
    "s2 = s.replace('once','twice')\n",
    "print(s,s2)\n"
   ]
  },
  {
   "cell_type": "code",
   "execution_count": 25,
   "id": "f733fc05",
   "metadata": {},
   "outputs": [
    {
     "name": "stdout",
     "output_type": "stream",
     "text": [
      "onci upon a timi\n"
     ]
    }
   ],
   "source": [
    "s3 = s.replace('e','i')\n",
    "print(s3)"
   ]
  },
  {
   "cell_type": "code",
   "execution_count": 26,
   "id": "2192e5fd",
   "metadata": {},
   "outputs": [
    {
     "name": "stdout",
     "output_type": "stream",
     "text": [
      "py#t#h#o#n\n",
      "python\n"
     ]
    }
   ],
   "source": [
    "data = 'py#t#h#o#n'\n",
    "cleaned_data=data.replace('#','')\n",
    "print(data,cleaned_data,sep='\\n')"
   ]
  },
  {
   "cell_type": "code",
   "execution_count": 27,
   "id": "b27b74b3",
   "metadata": {},
   "outputs": [
    {
     "name": "stdout",
     "output_type": "stream",
     "text": [
      "7\n"
     ]
    }
   ],
   "source": [
    "m = \"alpine mountain range\"\n",
    "print(m.find('mountain'))"
   ]
  },
  {
   "cell_type": "code",
   "execution_count": 28,
   "id": "03f798f4",
   "metadata": {},
   "outputs": [
    {
     "name": "stdout",
     "output_type": "stream",
     "text": [
      "-1\n"
     ]
    }
   ],
   "source": [
    "print(m.find('loin'))"
   ]
  },
  {
   "cell_type": "code",
   "execution_count": 29,
   "id": "90668f81",
   "metadata": {},
   "outputs": [
    {
     "name": "stdout",
     "output_type": "stream",
     "text": [
      "2\n"
     ]
    }
   ],
   "source": [
    "print(m.find('pine'))"
   ]
  },
  {
   "cell_type": "code",
   "execution_count": 30,
   "id": "baeda39e",
   "metadata": {},
   "outputs": [
    {
     "name": "stdout",
     "output_type": "stream",
     "text": [
      "3\n"
     ]
    }
   ],
   "source": [
    "print(m.find('i'))"
   ]
  },
  {
   "cell_type": "code",
   "execution_count": 31,
   "id": "f4a96447",
   "metadata": {},
   "outputs": [
    {
     "name": "stdout",
     "output_type": "stream",
     "text": [
      "13\n"
     ]
    }
   ],
   "source": [
    "print(m.find('i',4))"
   ]
  },
  {
   "cell_type": "markdown",
   "id": "68736422",
   "metadata": {},
   "source": [
    "# split and join\n"
   ]
  },
  {
   "cell_type": "code",
   "execution_count": 32,
   "id": "c2ecbf75",
   "metadata": {},
   "outputs": [],
   "source": [
    "quote = '''life before death,\n",
    "           courage before despar,\n",
    "           journey before destination'''\n",
    "\n"
   ]
  },
  {
   "cell_type": "markdown",
   "id": "4f129e67",
   "metadata": {},
   "source": [
    " # function and modules"
   ]
  },
  {
   "cell_type": "code",
   "execution_count": 33,
   "id": "33e547ef",
   "metadata": {},
   "outputs": [
    {
     "ename": "ValueError",
     "evalue": "invalid literal for int() with base 10: ''",
     "output_type": "error",
     "traceback": [
      "\u001b[31m---------------------------------------------------------------------------\u001b[39m",
      "\u001b[31mValueError\u001b[39m                                Traceback (most recent call last)",
      "\u001b[36mCell\u001b[39m\u001b[36m \u001b[39m\u001b[32mIn[33]\u001b[39m\u001b[32m, line 2\u001b[39m\n\u001b[32m      1\u001b[39m n = \u001b[38;5;28minput\u001b[39m(\u001b[33m'\u001b[39m\u001b[33menter value\u001b[39m\u001b[33m'\u001b[39m)\n\u001b[32m----> \u001b[39m\u001b[32m2\u001b[39m \u001b[38;5;28;01mif\u001b[39;00m \u001b[38;5;28;43mint\u001b[39;49m\u001b[43m(\u001b[49m\u001b[43mn\u001b[49m\u001b[43m)\u001b[49m%\u001b[32m2\u001b[39m==\u001b[32m0\u001b[39m:\n\u001b[32m      3\u001b[39m     \u001b[38;5;28mprint\u001b[39m(\u001b[33m\"\u001b[39m\u001b[33meven\u001b[39m\u001b[33m\"\u001b[39m)\n\u001b[32m      5\u001b[39m \u001b[38;5;28;01melse\u001b[39;00m:\u001b[38;5;28mprint\u001b[39m(\u001b[33m\"\u001b[39m\u001b[33modd\u001b[39m\u001b[33m\"\u001b[39m)\n",
      "\u001b[31mValueError\u001b[39m: invalid literal for int() with base 10: ''"
     ]
    }
   ],
   "source": [
    "\n",
    "n = input('enter value')\n",
    "if int(n)%2==0:\n",
    "    print(\"even\")\n",
    "\n",
    "else:print(\"odd\")"
   ]
  },
  {
   "cell_type": "code",
   "execution_count": null,
   "id": "e974eefd",
   "metadata": {},
   "outputs": [],
   "source": [
    "def total(a,b,c):\n",
    "    ans=a+b+c\n",
    "    print(f'total={ans}')"
   ]
  },
  {
   "cell_type": "code",
   "execution_count": null,
   "id": "1e0a1ef3",
   "metadata": {},
   "outputs": [
    {
     "name": "stdout",
     "output_type": "stream",
     "text": [
      "total=60\n",
      "total=11\n"
     ]
    }
   ],
   "source": [
    "total(10,20,30)\n",
    "total(1,3,7)"
   ]
  },
  {
   "cell_type": "code",
   "execution_count": null,
   "id": "93b518a0",
   "metadata": {},
   "outputs": [],
   "source": [
    "def msg():\n",
    "    print('HELLO')"
   ]
  },
  {
   "cell_type": "code",
   "execution_count": null,
   "id": "798e6533",
   "metadata": {},
   "outputs": [
    {
     "name": "stdout",
     "output_type": "stream",
     "text": [
      "HELLO\n"
     ]
    }
   ],
   "source": [
    "msg()"
   ]
  },
  {
   "cell_type": "markdown",
   "id": "eb71a0c6",
   "metadata": {},
   "source": [
    "parameterized function"
   ]
  },
  {
   "cell_type": "code",
   "execution_count": null,
   "id": "6d4f966d",
   "metadata": {},
   "outputs": [],
   "source": [
    "def mul(a,b):\n",
    "    print(a*b)"
   ]
  },
  {
   "cell_type": "code",
   "execution_count": null,
   "id": "781d5ae1",
   "metadata": {},
   "outputs": [
    {
     "name": "stdout",
     "output_type": "stream",
     "text": [
      "10\n",
      "255\n",
      "210\n"
     ]
    },
    {
     "ename": "TypeError",
     "evalue": "mul() missing 2 required positional arguments: 'a' and 'b'",
     "output_type": "error",
     "traceback": [
      "\u001b[31m---------------------------------------------------------------------------\u001b[39m",
      "\u001b[31mTypeError\u001b[39m                                 Traceback (most recent call last)",
      "\u001b[36mCell\u001b[39m\u001b[36m \u001b[39m\u001b[32mIn[33]\u001b[39m\u001b[32m, line 4\u001b[39m\n\u001b[32m      2\u001b[39m mul(\u001b[32m15\u001b[39m,\u001b[32m17\u001b[39m)\n\u001b[32m      3\u001b[39m mul(\u001b[32m7\u001b[39m,\u001b[32m30\u001b[39m)\n\u001b[32m----> \u001b[39m\u001b[32m4\u001b[39m \u001b[43mmul\u001b[49m\u001b[43m(\u001b[49m\u001b[43m)\u001b[49m\n\u001b[32m      5\u001b[39m mul(\u001b[32m10\u001b[39m)\n\u001b[32m      6\u001b[39m mul(\u001b[33m'\u001b[39m\u001b[33ma\u001b[39m\u001b[33m'\u001b[39m,\u001b[33m'\u001b[39m\u001b[33mb\u001b[39m\u001b[33m'\u001b[39m)\n",
      "\u001b[31mTypeError\u001b[39m: mul() missing 2 required positional arguments: 'a' and 'b'"
     ]
    }
   ],
   "source": [
    "mul(2,5)\n",
    "mul(15,17)\n",
    "mul(7,30)\n",
    "mul()\n",
    "mul(10)\n",
    "mul('a','b')"
   ]
  },
  {
   "cell_type": "code",
   "execution_count": null,
   "id": "bb4532f3",
   "metadata": {},
   "outputs": [],
   "source": [
    "import math\n",
    "def hyp(p,b):\n",
    "    ans = math.sqrt(p**2 + b**2)\n",
    "    return ans"
   ]
  },
  {
   "cell_type": "code",
   "execution_count": null,
   "id": "250fb25b",
   "metadata": {},
   "outputs": [
    {
     "data": {
      "text/plain": [
       "12.206555615733702"
      ]
     },
     "execution_count": 36,
     "metadata": {},
     "output_type": "execute_result"
    }
   ],
   "source": [
    "hyp(10,7)"
   ]
  },
  {
   "cell_type": "code",
   "execution_count": null,
   "id": "05a4c036",
   "metadata": {},
   "outputs": [],
   "source": [
    "def is_even(num):\n",
    "    if num%2 == 0:\n",
    "        return True\n",
    "    else:\n",
    "        return False"
   ]
  },
  {
   "cell_type": "code",
   "execution_count": null,
   "id": "844f2d16",
   "metadata": {},
   "outputs": [
    {
     "data": {
      "text/plain": [
       "False"
      ]
     },
     "execution_count": 44,
     "metadata": {},
     "output_type": "execute_result"
    }
   ],
   "source": [
    "is_even(7)"
   ]
  },
  {
   "cell_type": "code",
   "execution_count": null,
   "id": "f7850c36",
   "metadata": {},
   "outputs": [
    {
     "name": "stdout",
     "output_type": "stream",
     "text": [
      "Start From  Nursery\n"
     ]
    }
   ],
   "source": [
    "x = int(input(\"enter a even number\"))\n",
    "if is_even(x):\n",
    "    print('good job')\n",
    "else:\n",
    "    print(\"Start From  Nursery\")"
   ]
  },
  {
   "cell_type": "markdown",
   "id": "be8979c4",
   "metadata": {},
   "source": [
    "1.REQUIRED PARAMETER"
   ]
  },
  {
   "cell_type": "code",
   "execution_count": null,
   "id": "88ad4309",
   "metadata": {},
   "outputs": [],
   "source": [
    "def area(l,b):\n",
    "    return l*b"
   ]
  },
  {
   "cell_type": "code",
   "execution_count": null,
   "id": "6044f5a0",
   "metadata": {},
   "outputs": [
    {
     "name": "stdout",
     "output_type": "stream",
     "text": [
      "50\n"
     ]
    },
    {
     "ename": "TypeError",
     "evalue": "area() missing 2 required positional arguments: 'l' and 'b'",
     "output_type": "error",
     "traceback": [
      "\u001b[31m---------------------------------------------------------------------------\u001b[39m",
      "\u001b[31mTypeError\u001b[39m                                 Traceback (most recent call last)",
      "\u001b[36mCell\u001b[39m\u001b[36m \u001b[39m\u001b[32mIn[30]\u001b[39m\u001b[32m, line 3\u001b[39m\n\u001b[32m      1\u001b[39m ans = area(\u001b[32m10\u001b[39m,\u001b[32m5\u001b[39m)\n\u001b[32m      2\u001b[39m \u001b[38;5;28mprint\u001b[39m(ans)\n\u001b[32m----> \u001b[39m\u001b[32m3\u001b[39m ans=\u001b[43marea\u001b[49m\u001b[43m(\u001b[49m\u001b[43m)\u001b[49m\n",
      "\u001b[31mTypeError\u001b[39m: area() missing 2 required positional arguments: 'l' and 'b'"
     ]
    }
   ],
   "source": [
    "ans = area(10,5)\n",
    "print(ans)\n",
    "ans=area()"
   ]
  },
  {
   "cell_type": "code",
   "execution_count": null,
   "id": "2d62c2c4",
   "metadata": {},
   "outputs": [
    {
     "name": "stdout",
     "output_type": "stream",
     "text": [
      "65\n"
     ]
    }
   ],
   "source": [
    "res=area(l=5,b=13)\n",
    "print(res)"
   ]
  },
  {
   "cell_type": "code",
   "execution_count": null,
   "id": "bd0ffaa1",
   "metadata": {},
   "outputs": [],
   "source": [
    "def si(p,r,t):\n",
    "    return p*r*t/100"
   ]
  },
  {
   "cell_type": "code",
   "execution_count": null,
   "id": "3faea4e1",
   "metadata": {},
   "outputs": [
    {
     "name": "stdout",
     "output_type": "stream",
     "text": [
      "165.0\n"
     ]
    }
   ],
   "source": [
    "intrest = si(p=1000,r=3.3,t=5)\n",
    "print(intrest)"
   ]
  },
  {
   "cell_type": "markdown",
   "id": "143fe180",
   "metadata": {},
   "source": [
    "DEFAULT PARAMETERS"
   ]
  },
  {
   "cell_type": "code",
   "execution_count": 34,
   "id": "437bb8cc",
   "metadata": {},
   "outputs": [],
   "source": [
    "def pow(n,e=7):\n",
    "    return n**e"
   ]
  },
  {
   "cell_type": "code",
   "execution_count": 35,
   "id": "2f6a4861",
   "metadata": {},
   "outputs": [
    {
     "name": "stdout",
     "output_type": "stream",
     "text": [
      "823543\n"
     ]
    }
   ],
   "source": [
    "print(pow(7,7))"
   ]
  },
  {
   "cell_type": "code",
   "execution_count": 36,
   "id": "7cd09d5b",
   "metadata": {},
   "outputs": [
    {
     "name": "stdout",
     "output_type": "stream",
     "text": [
      "823543\n"
     ]
    }
   ],
   "source": [
    "print(pow(7))"
   ]
  },
  {
   "cell_type": "code",
   "execution_count": 39,
   "id": "cb231a2b",
   "metadata": {},
   "outputs": [],
   "source": [
    "def adder(a,b=0,c=0,d=0):\n",
    "    return a+b+c+d"
   ]
  },
  {
   "cell_type": "code",
   "execution_count": 40,
   "id": "29a59dfc",
   "metadata": {},
   "outputs": [
    {
     "data": {
      "text/plain": [
       "7"
      ]
     },
     "execution_count": 40,
     "metadata": {},
     "output_type": "execute_result"
    }
   ],
   "source": [
    "adder(7)"
   ]
  },
  {
   "cell_type": "code",
   "execution_count": 41,
   "id": "b608bc78",
   "metadata": {},
   "outputs": [
    {
     "data": {
      "text/plain": [
       "16"
      ]
     },
     "execution_count": 41,
     "metadata": {},
     "output_type": "execute_result"
    }
   ],
   "source": [
    "adder(7,9)"
   ]
  },
  {
   "cell_type": "code",
   "execution_count": 42,
   "id": "07cf94ec",
   "metadata": {},
   "outputs": [
    {
     "data": {
      "text/plain": [
       "13"
      ]
     },
     "execution_count": 42,
     "metadata": {},
     "output_type": "execute_result"
    }
   ],
   "source": [
    "adder(2,4,7)"
   ]
  },
  {
   "cell_type": "code",
   "execution_count": 43,
   "id": "808fe4e1",
   "metadata": {},
   "outputs": [
    {
     "data": {
      "text/plain": [
       "20"
      ]
     },
     "execution_count": 43,
     "metadata": {},
     "output_type": "execute_result"
    }
   ],
   "source": [
    "adder(a=7,c=10,d=3)"
   ]
  },
  {
   "cell_type": "code",
   "execution_count": 3,
   "id": "17b6a504",
   "metadata": {},
   "outputs": [],
   "source": [
    "def greeting():\n",
    "    print(\"🌟\"*5)\n",
    "    print(\"Good morning\")\n",
    "    print(\"🌟\"*5) \n",
    "\n",
    "    greeting()"
   ]
  },
  {
   "cell_type": "code",
   "execution_count": 122,
   "id": "4eb9f5f1",
   "metadata": {},
   "outputs": [
    {
     "name": "stdout",
     "output_type": "stream",
     "text": [
      "🍀\n",
      "✋\n",
      "✋\n",
      "✋\n"
     ]
    }
   ],
   "source": [
    "def dice_roll():\n",
    "    import random\n",
    "    out = {1:'👍',2:'✌',3:'👌',4:'🍀',5:'✋',6:'👑'}\n",
    "    value = random.randint(1,6)  # select a random num between 1-6\n",
    "    return out.get(value) # return the icon from the dict using value\n",
    "\n",
    "#calls\n",
    "print(dice_roll())\n",
    "print(dice_roll())\n",
    "print(dice_roll())\n",
    "print(dice_roll())\n"
   ]
  },
  {
   "cell_type": "code",
   "execution_count": 103,
   "id": "5511d92b",
   "metadata": {},
   "outputs": [
    {
     "name": "stdout",
     "output_type": "stream",
     "text": [
      "False\n",
      "True\n",
      "True\n",
      "False\n"
     ]
    }
   ],
   "source": [
    "def is_valid_password(pwd):\n",
    "    if len(pwd) < 8 : return False\n",
    "    if not pwd.isalnum(): return False\n",
    "    return True\n",
    "\n",
    "print(is_valid_password(\"hello\"))\n",
    "print(is_valid_password(\"helloWorld\"))\n",
    "print(is_valid_password(\"helloWorld10\"))\n",
    "print(is_valid_password(\"3120@1233\"))"
   ]
  },
  {
   "cell_type": "code",
   "execution_count": 126,
   "id": "cf717b1a",
   "metadata": {},
   "outputs": [
    {
     "name": "stdout",
     "output_type": "stream",
     "text": [
      "area = 24\n"
     ]
    }
   ],
   "source": [
    "# proper function syntax in python\n",
    "def area(length: int,breadth:int)->int:\n",
    "    return length * breadth\n",
    "l=8\n",
    "b=3\n",
    "a=area(l,b)\n",
    "print(f'area = {a}')"
   ]
  },
  {
   "cell_type": "code",
   "execution_count": 127,
   "id": "e2cc9d5d",
   "metadata": {},
   "outputs": [
    {
     "name": "stdout",
     "output_type": "stream",
     "text": [
      "Hello\n",
      "Hi\n"
     ]
    }
   ],
   "source": [
    "# default args\n",
    "\n",
    "def cleanText(data,to_remove = \"@$#%\"):\n",
    "    newdata = data                          # make a copy of data\n",
    "    for char in to_remove:                  # loop of each char to remove\n",
    "        newdata = newdata.replace(char,'')  # use replace to remove char\n",
    "    return newdata                          # return newdata\n",
    "\n",
    "cText = cleanText(\"He#ll#o@\")\n",
    "print(cText)\n",
    "cText2 = cleanText(\"H@!()#!)@i\",to_remove='@!#()') # Updated chars\n",
    "print(cText2)"
   ]
  },
  {
   "cell_type": "code",
   "execution_count": 138,
   "id": "986b98a5",
   "metadata": {},
   "outputs": [
    {
     "data": {
      "text/plain": [
       "26"
      ]
     },
     "execution_count": 138,
     "metadata": {},
     "output_type": "execute_result"
    }
   ],
   "source": [
    "def add100(a,b,c,d,e,f,g,h,i,j,k,l,m,n,o,p,q,r,s,t,u,v,w,x,y,z):\n",
    "    return a+b+c+d+e+f+g+h+i+j+k+l+m+n+o+p+q+r+s+t+u+v+w+x+y+z\n",
    "add100(1,1,1,1,1,1,1,1,1,1,1,1,1,1,1,1,1,1,1,1,1,1,1,1,1,1)"
   ]
  },
  {
   "cell_type": "markdown",
   "id": "5953f99a",
   "metadata": {},
   "source": [
    "### Variable Arguments in python\n",
    "\n",
    "A function can have variable arguments in python using \"*\" symbol before a parameter in the function definition.This allows the function to accept any number of positional arguments as a tuple."
   ]
  },
  {
   "cell_type": "code",
   "execution_count": 139,
   "id": "e36ddc9f",
   "metadata": {},
   "outputs": [
    {
     "name": "stdout",
     "output_type": "stream",
     "text": [
      "1\n",
      "24\n",
      "4838400\n"
     ]
    }
   ],
   "source": [
    "# A function that can multiply n parameters\n",
    "def multiplier(*numbers):\n",
    "    result = 1              # variable to hold total\n",
    "    for value in numbers:   # Loop to get value from numbers\n",
    "        result *= value     # Multiply value with result and save\n",
    "    return result           # return result\n",
    "\n",
    "print(multiplier())         # no value\n",
    "print(multiplier(2,3,4))    # with few arguments\n",
    "print(multiplier(2,3,4,3,5,6,1,2,2,5,56,2)) # with many argumets"
   ]
  },
  {
   "cell_type": "code",
   "execution_count": 140,
   "id": "1d9db074",
   "metadata": {},
   "outputs": [],
   "source": [
    "def operate(*args,operator=\"*\"):\n",
    "    if operator == '*':\n",
    "        result = 1\n",
    "        for num in args:\n",
    "            result*=num\n",
    "        return result\n",
    "    elif operator == '+':\n",
    "        result = 0\n",
    "        for num in args:\n",
    "            result+=num\n",
    "        return result\n",
    "    else:\n",
    "        return\"wrong operatorgive , please provide + or *\"    \n"
   ]
  }
 ],
 "metadata": {
  "kernelspec": {
   "display_name": "Python 3",
   "language": "python",
   "name": "python3"
  },
  "language_info": {
   "codemirror_mode": {
    "name": "ipython",
    "version": 3
   },
   "file_extension": ".py",
   "mimetype": "text/x-python",
   "name": "python",
   "nbconvert_exporter": "python",
   "pygments_lexer": "ipython3",
   "version": "3.13.6"
  }
 },
 "nbformat": 4,
 "nbformat_minor": 5
}
