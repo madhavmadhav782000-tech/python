{
 "cells": [
  {
   "cell_type": "markdown",
   "id": "fa6cdfed",
   "metadata": {},
   "source": [
    "# STRING CREATION"
   ]
  },
  {
   "cell_type": "code",
   "execution_count": 2,
   "id": "c5bd4491",
   "metadata": {},
   "outputs": [
    {
     "name": "stdout",
     "output_type": "stream",
     "text": [
      "apple banana this is \n",
      "       choclate\n",
      "       cake\n"
     ]
    }
   ],
   "source": [
    "a = 'apple'\n",
    "b = \"banana\"\n",
    "c = '''this is \n",
    "       choclate\n",
    "       cake'''\n",
    "print(a,b,c)\n",
    "\n"
   ]
  },
  {
   "cell_type": "markdown",
   "id": "70beb482",
   "metadata": {},
   "source": [
    "# TYPE CASTING"
   ]
  },
  {
   "cell_type": "code",
   "execution_count": 8,
   "id": "1cd85aa7",
   "metadata": {},
   "outputs": [
    {
     "name": "stdout",
     "output_type": "stream",
     "text": [
      "10 <class 'str'>\n",
      "['apple', 'banana'] <class 'str'>\n"
     ]
    }
   ],
   "source": [
    "x=str(10)\n",
    "y=str([\"apple\",\"banana\"])\n",
    "print(x, type(x))\n",
    "print(y, type(y))"
   ]
  },
  {
   "cell_type": "markdown",
   "id": "b0ef79df",
   "metadata": {},
   "source": [
    "# slicing and indexing"
   ]
  },
  {
   "cell_type": "code",
   "execution_count": 9,
   "id": "c80c3589",
   "metadata": {},
   "outputs": [
    {
     "name": "stdout",
     "output_type": "stream",
     "text": [
      "thepointis,i am not disappointed\n"
     ]
    }
   ],
   "source": [
    "x='disappointed'\n",
    "y=x[5:10]\n",
    "print(f\"the{y}is,i am not {x}\")\n"
   ]
  },
  {
   "cell_type": "markdown",
   "id": "2ab8e789",
   "metadata": {},
   "source": [
    "# function in str"
   ]
  },
  {
   "cell_type": "code",
   "execution_count": 14,
   "id": "00d8404e",
   "metadata": {},
   "outputs": [
    {
     "name": "stdout",
     "output_type": "stream",
     "text": [
      "johny johny yes papa\n",
      "         telling lies no papa \n",
      "         open your mouth\n",
      "         ha ha ha\n"
     ]
    }
   ],
   "source": [
    "poem ='''johny johny yes papa\n",
    "         telling lies no papa \n",
    "         open your mouth\n",
    "         ha ha ha'''\n",
    "print(poem)\n",
    "y=poem[0:19]\n",
    "y=poem[23:43]"
   ]
  },
  {
   "cell_type": "code",
   "execution_count": 1,
   "id": "28eeec6e",
   "metadata": {},
   "outputs": [
    {
     "name": "stdout",
     "output_type": "stream",
     "text": [
      "maintain silence in library\n",
      "MAINTAIN SILENCE IN LIBRARY\n"
     ]
    }
   ],
   "source": [
    "s=\"maintain silence in library\"\n",
    "supper=s.upper()\n",
    "print(s)\n",
    "print(supper)"
   ]
  },
  {
   "cell_type": "code",
   "execution_count": 2,
   "id": "7fa9688b",
   "metadata": {},
   "outputs": [
    {
     "name": "stdout",
     "output_type": "stream",
     "text": [
      "MAINTAIN SILENCE IN LIBRARY\n"
     ]
    }
   ],
   "source": [
    "s=\"maintain silence in library\"\n",
    "supper=s.swapcase()\n",
    "print(supper)"
   ]
  },
  {
   "cell_type": "code",
   "execution_count": 5,
   "id": "fe3f4139",
   "metadata": {},
   "outputs": [
    {
     "name": "stdout",
     "output_type": "stream",
     "text": [
      "Maintain silence in library\n"
     ]
    }
   ],
   "source": [
    "s=\"maintain silence in library\"\n",
    "supper=s.capitalize()\n",
    "print(supper)"
   ]
  },
  {
   "cell_type": "code",
   "execution_count": 6,
   "id": "d286529b",
   "metadata": {},
   "outputs": [
    {
     "name": "stdout",
     "output_type": "stream",
     "text": [
      "maintain sience in library\n"
     ]
    }
   ],
   "source": [
    "s=\"maintain sience in library\"\n",
    "supper=s.lower()\n",
    "print(supper)"
   ]
  },
  {
   "cell_type": "code",
   "execution_count": 7,
   "id": "f51e3ded",
   "metadata": {},
   "outputs": [
    {
     "name": "stdout",
     "output_type": "stream",
     "text": [
      "Maintain Silence In Library\n"
     ]
    }
   ],
   "source": [
    "s=\"maintain silence in library\"\n",
    "supper=s.title()\n",
    "print(supper)"
   ]
  },
  {
   "cell_type": "code",
   "execution_count": 8,
   "id": "43135f6e",
   "metadata": {},
   "outputs": [
    {
     "name": "stdout",
     "output_type": "stream",
     "text": [
      "maintain silence in library\n",
      "maintain silence in library\n"
     ]
    }
   ],
   "source": [
    "s=\"maintain silence in library\"\n",
    "supper=s.casefold()\n",
    "print(s)\n",
    "print(supper)"
   ]
  },
  {
   "cell_type": "code",
   "execution_count": 9,
   "id": "e292e4eb",
   "metadata": {},
   "outputs": [
    {
     "name": "stdout",
     "output_type": "stream",
     "text": [
      "5\n"
     ]
    }
   ],
   "source": [
    "a=\"seven\"\n",
    "size=len(a)\n",
    "print(size)"
   ]
  },
  {
   "cell_type": "code",
   "execution_count": 13,
   "id": "1cee323d",
   "metadata": {},
   "outputs": [
    {
     "name": "stdout",
     "output_type": "stream",
     "text": [
      "seven\n",
      "seven     \n",
      "seven-----\n",
      "|||||||||||||||seven\n",
      "               seven\n",
      "****seven****\n"
     ]
    }
   ],
   "source": [
    "a='seven'\n",
    "al=a.ljust(10)\n",
    "print(a)\n",
    "print(al)\n",
    "a2=a.ljust(10,'-')\n",
    "print(a2)\n",
    "a3=a.rjust(20,'|')\n",
    "a4=a.rjust(20)\n",
    "a5=a.center(13,'*')\n",
    "print(a3,a4,a5,sep='\\n')"
   ]
  },
  {
   "cell_type": "code",
   "execution_count": 12,
   "id": "360a3e85",
   "metadata": {},
   "outputs": [
    {
     "name": "stdout",
     "output_type": "stream",
     "text": [
      "seven\n",
      "seven\n"
     ]
    }
   ],
   "source": [
    "a=\"seven\"\n",
    "a1=a.ljust(10)\n",
    "print(a)\n",
    "print(a)"
   ]
  },
  {
   "cell_type": "code",
   "execution_count": 14,
   "id": "db4e8766",
   "metadata": {},
   "outputs": [
    {
     "name": "stdout",
     "output_type": "stream",
     "text": [
      "maddipati madhav\n"
     ]
    }
   ],
   "source": [
    "x=input()\n",
    "print(x)\n"
   ]
  },
  {
   "cell_type": "code",
   "execution_count": 15,
   "id": "be2bfcef",
   "metadata": {},
   "outputs": [
    {
     "name": "stdout",
     "output_type": "stream",
     "text": [
      "\n",
      "False\n"
     ]
    }
   ],
   "source": [
    "x=input()\n",
    "print()\n",
    "print(x.isalpha())\n",
    "\n",
    "\n",
    "\n",
    "\n"
   ]
  },
  {
   "cell_type": "code",
   "execution_count": 16,
   "id": "9c5a4df9",
   "metadata": {},
   "outputs": [
    {
     "name": "stdout",
     "output_type": "stream",
     "text": [
      "\n",
      "True\n"
     ]
    }
   ],
   "source": [
    "x=input()\n",
    "print()\n",
    "print(x.isdigit())"
   ]
  },
  {
   "cell_type": "code",
   "execution_count": 17,
   "id": "4c2fc9db",
   "metadata": {},
   "outputs": [
    {
     "name": "stdout",
     "output_type": "stream",
     "text": [
      "\n",
      "False\n"
     ]
    }
   ],
   "source": [
    "x=input()\n",
    "print()\n",
    "print(x.isspace())"
   ]
  },
  {
   "cell_type": "code",
   "execution_count": 1,
   "id": "66326169",
   "metadata": {},
   "outputs": [
    {
     "name": "stdout",
     "output_type": "stream",
     "text": [
      "0\n",
      "10\n"
     ]
    }
   ],
   "source": [
    "num=0\n",
    "print(num)\n",
    "print(10)"
   ]
  },
  {
   "cell_type": "code",
   "execution_count": 1,
   "id": "cb240edd",
   "metadata": {},
   "outputs": [
    {
     "name": "stdout",
     "output_type": "stream",
     "text": [
      "once upon a time twice upon a time\n"
     ]
    }
   ],
   "source": [
    "s = \"once upon a time\"\n",
    "s2 = s.replace('once','twice')\n",
    "print(s,s2)\n"
   ]
  },
  {
   "cell_type": "code",
   "execution_count": 2,
   "id": "f733fc05",
   "metadata": {},
   "outputs": [
    {
     "name": "stdout",
     "output_type": "stream",
     "text": [
      "onci upon a timi\n"
     ]
    }
   ],
   "source": [
    "s3 = s.replace('e','i')\n",
    "print(s3)"
   ]
  },
  {
   "cell_type": "code",
   "execution_count": 3,
   "id": "2192e5fd",
   "metadata": {},
   "outputs": [
    {
     "name": "stdout",
     "output_type": "stream",
     "text": [
      "py#t#h#o#n\n",
      "python\n"
     ]
    }
   ],
   "source": [
    "data = 'py#t#h#o#n'\n",
    "cleaned_data=data.replace('#','')\n",
    "print(data,cleaned_data,sep='\\n')"
   ]
  },
  {
   "cell_type": "code",
   "execution_count": 4,
   "id": "b27b74b3",
   "metadata": {},
   "outputs": [
    {
     "name": "stdout",
     "output_type": "stream",
     "text": [
      "7\n"
     ]
    }
   ],
   "source": [
    "m = \"alpine mountain range\"\n",
    "print(m.find('mountain'))"
   ]
  },
  {
   "cell_type": "code",
   "execution_count": 5,
   "id": "03f798f4",
   "metadata": {},
   "outputs": [
    {
     "name": "stdout",
     "output_type": "stream",
     "text": [
      "-1\n"
     ]
    }
   ],
   "source": [
    "print(m.find('loin'))"
   ]
  },
  {
   "cell_type": "code",
   "execution_count": 6,
   "id": "90668f81",
   "metadata": {},
   "outputs": [
    {
     "name": "stdout",
     "output_type": "stream",
     "text": [
      "2\n"
     ]
    }
   ],
   "source": [
    "print(m.find('pine'))"
   ]
  },
  {
   "cell_type": "code",
   "execution_count": 7,
   "id": "baeda39e",
   "metadata": {},
   "outputs": [
    {
     "name": "stdout",
     "output_type": "stream",
     "text": [
      "3\n"
     ]
    }
   ],
   "source": [
    "print(m.find('i'))"
   ]
  },
  {
   "cell_type": "code",
   "execution_count": 8,
   "id": "f4a96447",
   "metadata": {},
   "outputs": [
    {
     "name": "stdout",
     "output_type": "stream",
     "text": [
      "13\n"
     ]
    }
   ],
   "source": [
    "print(m.find('i',4))"
   ]
  },
  {
   "cell_type": "markdown",
   "id": "68736422",
   "metadata": {},
   "source": [
    "# split and join\n"
   ]
  },
  {
   "cell_type": "code",
   "execution_count": 16,
   "id": "c2ecbf75",
   "metadata": {},
   "outputs": [],
   "source": [
    "quote = '''life before death,\n",
    "           courage before despar,\n",
    "           journey before destination'''\n",
    "\n"
   ]
  },
  {
   "cell_type": "markdown",
   "id": "4f129e67",
   "metadata": {},
   "source": [
    " # function and modules"
   ]
  },
  {
   "cell_type": "code",
   "execution_count": 4,
   "id": "33e547ef",
   "metadata": {},
   "outputs": [
    {
     "name": "stdout",
     "output_type": "stream",
     "text": [
      "odd\n"
     ]
    }
   ],
   "source": [
    "\n",
    "n = input('enter value')\n",
    "if int(n)%2==0:\n",
    "    print(\"even\")\n",
    "\n",
    "else:print(\"odd\")"
   ]
  },
  {
   "cell_type": "code",
   "execution_count": null,
   "id": "e974eefd",
   "metadata": {},
   "outputs": [],
   "source": [
    " "
   ]
  }
 ],
 "metadata": {
  "kernelspec": {
   "display_name": "Python 3",
   "language": "python",
   "name": "python3"
  },
  "language_info": {
   "codemirror_mode": {
    "name": "ipython",
    "version": 3
   },
   "file_extension": ".py",
   "mimetype": "text/x-python",
   "name": "python",
   "nbconvert_exporter": "python",
   "pygments_lexer": "ipython3",
   "version": "3.13.6"
  }
 },
 "nbformat": 4,
 "nbformat_minor": 5
}
