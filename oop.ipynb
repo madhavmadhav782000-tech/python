{
 "cells": [
  {
   "cell_type": "code",
   "execution_count": 47,
   "id": "e3a5cc51",
   "metadata": {},
   "outputs": [],
   "source": [
    "class pen:\n",
    "    color = \"red\"\n",
    "    height = \"0.7\",\n",
    "    shape = \"cylendrical\"\n",
    "    cap = \"cylendrical\"\n",
    "    material = \"nylon\"\n",
    "    quality = \"thin\"\n",
    "    brand = \"tupperware\"\n",
    "    price = \"500\"\n",
    "    "
   ]
  },
  {
   "cell_type": "markdown",
   "id": "57f800e4",
   "metadata": {},
   "source": [
    "variable/objects<-------->triangle = polygon()  <----->object creation \"instance\"\n",
    "triangle.side = 3    <------>attribute setting\n"
   ]
  },
  {
   "cell_type": "code",
   "execution_count": 48,
   "id": "a65871d9",
   "metadata": {},
   "outputs": [],
   "source": [
    "class polygon:\n",
    "    side = 0"
   ]
  },
  {
   "cell_type": "code",
   "execution_count": 49,
   "id": "8700a355",
   "metadata": {},
   "outputs": [
    {
     "name": "stdout",
     "output_type": "stream",
     "text": [
      "0\n"
     ]
    }
   ],
   "source": [
    "print(polygon.side)"
   ]
  },
  {
   "cell_type": "code",
   "execution_count": 50,
   "id": "944d337b",
   "metadata": {},
   "outputs": [
    {
     "name": "stdout",
     "output_type": "stream",
     "text": [
      "<class '__main__.polygon'>\n"
     ]
    }
   ],
   "source": [
    "print(polygon)"
   ]
  },
  {
   "cell_type": "code",
   "execution_count": 51,
   "id": "1a4f9139",
   "metadata": {},
   "outputs": [],
   "source": [
    "class triangle:\n",
    "    side = 0"
   ]
  },
  {
   "cell_type": "code",
   "execution_count": 52,
   "id": "c3156ef8",
   "metadata": {},
   "outputs": [
    {
     "name": "stdout",
     "output_type": "stream",
     "text": [
      "<class '__main__.triangle'>\n"
     ]
    }
   ],
   "source": [
    "print(triangle)"
   ]
  },
  {
   "cell_type": "code",
   "execution_count": 53,
   "id": "9b16c24c",
   "metadata": {},
   "outputs": [
    {
     "name": "stdout",
     "output_type": "stream",
     "text": [
      "0\n"
     ]
    }
   ],
   "source": [
    "print(triangle.side)"
   ]
  },
  {
   "cell_type": "markdown",
   "id": "2c9c6438",
   "metadata": {},
   "source": [
    "# OOP  FUNCTIONAL SCRIPTING"
   ]
  },
  {
   "cell_type": "markdown",
   "id": "adf25a10",
   "metadata": {},
   "source": [
    "# CLASS :\n",
    "            ->properties/attributes/fields\n",
    "            ->behavior/methods/actions\n",
    "            ->constructor(always exist)\n",
    "            ->instance variable\n",
    "            ->class variable\n",
    "            ->static method\n",
    "            ->magic methods"
   ]
  },
  {
   "cell_type": "markdown",
   "id": "a0edf009",
   "metadata": {},
   "source": [
    "# no constructor"
   ]
  },
  {
   "cell_type": "code",
   "execution_count": 54,
   "id": "12bb0892",
   "metadata": {},
   "outputs": [],
   "source": [
    "class area:\n",
    "    len = 0\n",
    "    bth = 0\n",
    "    def calc(self):\n",
    "        ans = len*bth\n",
    "        return"
   ]
  },
  {
   "cell_type": "markdown",
   "id": "76c67628",
   "metadata": {},
   "source": [
    "# constructor"
   ]
  },
  {
   "cell_type": "code",
   "execution_count": 55,
   "id": "6e6141da",
   "metadata": {},
   "outputs": [],
   "source": [
    "class Area:\n",
    "    len = 0\n",
    "    bth = 0\n",
    "    def calc(self):\n",
    "        ans = self.len * self.bth\n",
    "        return ans"
   ]
  },
  {
   "cell_type": "code",
   "execution_count": 56,
   "id": "a7989a7f",
   "metadata": {},
   "outputs": [],
   "source": [
    "class Area:\n",
    "    len = 0\n",
    "    bth = 0\n",
    "    def calc(self):\n",
    "        ans = self.len * self.bth\n",
    "        return ans"
   ]
  },
  {
   "cell_type": "code",
   "execution_count": 57,
   "id": "f9deb3cf",
   "metadata": {},
   "outputs": [],
   "source": [
    "class Dog:\n",
    "    def __init__(self,breed,color,age):\n",
    "        self.breed = breed\n",
    "        self.color = color\n",
    "        self.age = age\n",
    "    def show(self):\n",
    "        print(\"The Dog Details\")\n",
    "        print(\"breed\",self.breed)\n",
    "        print('age',self.age)\n"
   ]
  },
  {
   "cell_type": "code",
   "execution_count": 58,
   "id": "1b283a28",
   "metadata": {},
   "outputs": [
    {
     "name": "stdout",
     "output_type": "stream",
     "text": [
      "The Dog Details\n",
      "breed Golden reteiver\n",
      "age 3\n",
      "The Dog Details\n",
      "breed Dalmatian\n",
      "age 5\n",
      "The Dog Details\n",
      "breed Bulldog\n",
      "age 6\n",
      "The Dog Details\n",
      "breed German Sheperd\n",
      "age 4\n"
     ]
    }
   ],
   "source": [
    "bruno = Dog('Golden reteiver','golden',3)\n",
    "buddy = Dog('Dalmatian','black & White',5)\n",
    "sammy = Dog('Bulldog','black',6)\n",
    "alex = Dog('German Sheperd','Brown',4)\n",
    "\n",
    "bruno.show()\n",
    "buddy.show()\n",
    "sammy.show()\n",
    "alex.show()"
   ]
  },
  {
   "cell_type": "code",
   "execution_count": 59,
   "id": "b19b4b6e",
   "metadata": {},
   "outputs": [],
   "source": [
    "doglist = [bruno,sammy,alex,buddy]"
   ]
  },
  {
   "cell_type": "code",
   "execution_count": 60,
   "id": "f2ff4010",
   "metadata": {},
   "outputs": [
    {
     "name": "stdout",
     "output_type": "stream",
     "text": [
      "The Dog Details\n",
      "breed Bulldog\n",
      "age 6\n",
      "None\n"
     ]
    }
   ],
   "source": [
    "doglist = [bruno,sammy,alex,buddy]\n",
    "#display details of the eldest dogs using logic\n",
    "age = 0\n",
    "eldest_dog = None\n",
    "for dog in doglist:\n",
    "    if age <= dog.age:\n",
    "        age = dog.age\n",
    "        eldest_dog = dog\n",
    "print(eldest_dog.show())"
   ]
  },
  {
   "cell_type": "code",
   "execution_count": 61,
   "id": "3f2bd750",
   "metadata": {},
   "outputs": [
    {
     "name": "stdout",
     "output_type": "stream",
     "text": [
      "All Available dragons :\n",
      "1. Water Dragon\n",
      "2. Fire Dragon\n",
      "3. Ice Dragon\n"
     ]
    }
   ],
   "source": [
    "# a simple class\n",
    "class  Dragon:\n",
    "    def __init__(self,type):\n",
    "        self.type = type\n",
    "\n",
    "# instances\n",
    "water_dragon = Dragon(\"Water\")\n",
    "fire_dragon = Dragon(\"Fire\")\n",
    "ice_dragon = Dragon(\"Ice\")\n",
    "\n",
    "print(\"All Available dragons :\")\n",
    "print(f'1. {water_dragon.type} Dragon')\n",
    "print(f'2. {fire_dragon.type} Dragon')\n",
    "print(f'3. {ice_dragon.type} Dragon')"
   ]
  },
  {
   "cell_type": "code",
   "execution_count": 62,
   "id": "4216e8f0",
   "metadata": {},
   "outputs": [],
   "source": [
    "class Pokemon:\n",
    "    def __init__(self, name, type='Normal', hp=10, atk=10, dfn=10):\n",
    "        self.name = name\n",
    "        self.type = type\n",
    "        self.hp = hp\n",
    "        self.atk = atk\n",
    "        self.dfn = dfn\n",
    "\n",
    "    def stats(self):\n",
    "        print(f\"Name: {self.name}\")\n",
    "        print(f\"Type: {self.type}\")\n",
    "        print(f\"HP: {self.hp}\")\n",
    "        print(f\"ATK: {self.atk}\")\n",
    "        print(f\"DFN: {self.dfn}\")\n",
    "\n",
    "    def overall(self):\n",
    "        return self.hp + self.atk + self.dfn\n",
    "\n",
    "    def is_powerfull(self):\n",
    "        if self.overall() >= 100:\n",
    "            return True\n",
    "        return False\n",
    "\n",
    "\n"
   ]
  },
  {
   "cell_type": "code",
   "execution_count": 63,
   "id": "be6da5c9",
   "metadata": {},
   "outputs": [
    {
     "name": "stdout",
     "output_type": "stream",
     "text": [
      "\n",
      "stats:\n",
      "Name: Pikachu\n",
      "Type: Electric\n",
      "HP: 35\n",
      "ATK: 55\n",
      "DFN: 40\n",
      "Overall Score: 130\n",
      "Is Powerfull : True\n",
      "---------------------\n",
      "Name: Snorlax\n",
      "Type: Normal\n",
      "HP: 160\n",
      "ATK: 110\n",
      "DFN: 65\n",
      "Overall Score: 335\n",
      "Is Powerfull : True\n",
      "---------------------\n",
      "Name: Charizard\n",
      "Type: Fire/Flying\n",
      "HP: 78\n",
      "ATK: 84\n",
      "DFN: 78\n",
      "Overall Score: 240\n",
      "Is Powerfull : True\n",
      "---------------------\n",
      "Name: Balbasaur\n",
      "Type: Grass/Poison\n",
      "HP: 45\n",
      "ATK: 49\n",
      "DFN: 49\n",
      "Overall Score: 143\n",
      "Is Powerfull : True\n",
      "---------------------\n",
      "Name: Ratata\n",
      "Type: Normal\n",
      "HP: 10\n",
      "ATK: 10\n",
      "DFN: 10\n",
      "Overall Score: 30\n",
      "Is Powerfull : False\n",
      "---------------------\n"
     ]
    }
   ],
   "source": [
    "pikachu = Pokemon(\"Pikachu\",\"Electric\",35,55,40)\n",
    "snorlax = Pokemon(\"Snorlax\",\"Normal\",160,110,65)\n",
    "charizard = Pokemon(\"Charizard\",\"Fire/Flying\",78,84,78)\n",
    "bulbasaur = Pokemon(\"Balbasaur\",\"Grass/Poison\",45,49,49)\n",
    "ratata = Pokemon(\"Ratata\")\n",
    "\n",
    "pokemons = [pikachu,snorlax,charizard,bulbasaur,ratata]\n",
    "print(\"\\nstats:\")\n",
    "for poke in pokemons:\n",
    "    poke.stats()\n",
    "    print(f'Overall Score: {poke.overall()}')\n",
    "    print(f'Is Powerfull : {poke.is_powerfull()}')\n",
    "    print('---------------------')"
   ]
  },
  {
   "cell_type": "code",
   "execution_count": 64,
   "id": "3073ac28",
   "metadata": {},
   "outputs": [],
   "source": [
    "# simple calc using oop\n",
    "\n",
    "class Clac:\n",
    "    def run(self , num1, operator,num2):\n",
    "        match operator:\n",
    "            case '+' : self.add(num1, num2)\n",
    "            case '-' : self.subract(num1, num2)\n",
    "            case '*' : self.divide(num1, num2)\n",
    "            case '/' : self.multiply(num1, num2)\n",
    "    \n",
    "    def add(self,a,b):return a+b\n",
    "    def multiply(self , a, b): return a*b\n",
    "    def subract(self,a,b): return a-b\n",
    "    def divide(self,a,b):\n",
    "        if b==0: return \"⚠ can't divide by 0\"\n",
    "        "
   ]
  },
  {
   "cell_type": "code",
   "execution_count": 1,
   "id": "6cbe357b",
   "metadata": {},
   "outputs": [],
   "source": [
    "# simple calc using oop\n",
    "\n",
    "class Calc:\n",
    "    def run(self , num1, operator,num2):\n",
    "        match operator:\n",
    "            case '+' : return self.add(num1, num2)\n",
    "            case '-' : return self.subract(num1, num2)\n",
    "            case '*' : return self.divide(num1, num2)\n",
    "            case '/' : return self.multiply(num1, num2)\n",
    "    \n",
    "    def add(self,a,b):return a+b\n",
    "    def multiply(self , a, b): return a*b\n",
    "    def subract(self,a,b): return a-b\n",
    "    def divide(self,a,b):\n",
    "        if b==0: return \"⚠ can't divide by 0\"\n",
    "        return a/b"
   ]
  },
  {
   "cell_type": "code",
   "execution_count": 8,
   "id": "1609ec75",
   "metadata": {},
   "outputs": [
    {
     "name": "stdout",
     "output_type": "stream",
     "text": [
      "1.0\n"
     ]
    }
   ],
   "source": [
    "# calculator instance\n",
    "c = Calc()\n",
    "while True:\n",
    "    a = int(input(\"Enter first num\"))\n",
    "    b = int(input(\"Enter first num\"))\n",
    "    op = input(\"Enter Operation (+ , - , * , /)\")\n",
    "    ans = c.run(a,op,b) # ex 2 + 10 -> c.run(2 , '+' 10)\n",
    "    print(ans)\n",
    "    if input('continue') != 'y' :\n",
    "        break"
   ]
  },
  {
   "cell_type": "code",
   "execution_count": null,
   "id": "3df6d660",
   "metadata": {},
   "outputs": [],
   "source": []
  }
 ],
 "metadata": {
  "kernelspec": {
   "display_name": "Python 3",
   "language": "python",
   "name": "python3"
  },
  "language_info": {
   "codemirror_mode": {
    "name": "ipython",
    "version": 3
   },
   "file_extension": ".py",
   "mimetype": "text/x-python",
   "name": "python",
   "nbconvert_exporter": "python",
   "pygments_lexer": "ipython3",
   "version": "3.13.6"
  }
 },
 "nbformat": 4,
 "nbformat_minor": 5
}
