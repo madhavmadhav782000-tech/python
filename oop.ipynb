{
 "cells": [
  {
   "cell_type": "code",
   "execution_count": 16,
   "id": "e3a5cc51",
   "metadata": {},
   "outputs": [],
   "source": [
    "class pen:\n",
    "    color = \"red\"\n",
    "    height = \"0.7\",\n",
    "    shape = \"cylendrical\"\n",
    "    cap = \"cylendrical\"\n",
    "    material = \"nylon\"\n",
    "    quality = \"thin\"\n",
    "    brand = \"tupperware\"\n",
    "    price = \"500\"\n",
    "    "
   ]
  },
  {
   "cell_type": "markdown",
   "id": "57f800e4",
   "metadata": {},
   "source": [
    "variable/objects<-------->triangle = polygon()  <----->object creation \"instance\"\n",
    "triangle.side = 3    <------>attribute setting\n"
   ]
  },
  {
   "cell_type": "code",
   "execution_count": 17,
   "id": "a65871d9",
   "metadata": {},
   "outputs": [],
   "source": [
    "class polygon:\n",
    "    side = 0"
   ]
  },
  {
   "cell_type": "code",
   "execution_count": 18,
   "id": "8700a355",
   "metadata": {},
   "outputs": [
    {
     "name": "stdout",
     "output_type": "stream",
     "text": [
      "0\n"
     ]
    }
   ],
   "source": [
    "print(polygon.side)"
   ]
  },
  {
   "cell_type": "code",
   "execution_count": 19,
   "id": "944d337b",
   "metadata": {},
   "outputs": [
    {
     "name": "stdout",
     "output_type": "stream",
     "text": [
      "<class '__main__.polygon'>\n"
     ]
    }
   ],
   "source": [
    "print(polygon)"
   ]
  },
  {
   "cell_type": "code",
   "execution_count": 20,
   "id": "1a4f9139",
   "metadata": {},
   "outputs": [],
   "source": [
    "class triangle:\n",
    "    side = 0"
   ]
  },
  {
   "cell_type": "code",
   "execution_count": 21,
   "id": "c3156ef8",
   "metadata": {},
   "outputs": [
    {
     "name": "stdout",
     "output_type": "stream",
     "text": [
      "<class '__main__.triangle'>\n"
     ]
    }
   ],
   "source": [
    "print(triangle)"
   ]
  },
  {
   "cell_type": "code",
   "execution_count": 22,
   "id": "9b16c24c",
   "metadata": {},
   "outputs": [
    {
     "name": "stdout",
     "output_type": "stream",
     "text": [
      "0\n"
     ]
    }
   ],
   "source": [
    "print(triangle.side)"
   ]
  },
  {
   "cell_type": "markdown",
   "id": "2c9c6438",
   "metadata": {},
   "source": [
    "# OOP  FUNCTIONAL SCRIPTING"
   ]
  },
  {
   "cell_type": "markdown",
   "id": "adf25a10",
   "metadata": {},
   "source": [
    "# CLASS :\n",
    "            ->properties/attributes/fields\n",
    "            ->behavior/methods/actions\n",
    "            ->constructor(always exist)\n",
    "            ->instance variable\n",
    "            ->class variable\n",
    "            ->static method\n",
    "            ->magic methods"
   ]
  },
  {
   "cell_type": "markdown",
   "id": "a0edf009",
   "metadata": {},
   "source": [
    "# no constructor"
   ]
  },
  {
   "cell_type": "code",
   "execution_count": 35,
   "id": "12bb0892",
   "metadata": {},
   "outputs": [],
   "source": [
    "class area:\n",
    "    len = 0\n",
    "    bth = 0\n",
    "    def calc(self):\n",
    "        ans = len*bth\n",
    "        return"
   ]
  },
  {
   "cell_type": "markdown",
   "id": "76c67628",
   "metadata": {},
   "source": [
    "# constructor"
   ]
  },
  {
   "cell_type": "code",
   "execution_count": 40,
   "id": "6e6141da",
   "metadata": {},
   "outputs": [],
   "source": [
    "class Area:\n",
    "    len = 0\n",
    "    bth = 0\n",
    "    def calc(self):\n",
    "        ans = self.len * self.bth\n",
    "        return ans"
   ]
  },
  {
   "cell_type": "code",
   "execution_count": 41,
   "id": "a7989a7f",
   "metadata": {},
   "outputs": [],
   "source": [
    "class Area:\n",
    "    len = 0\n",
    "    bth = 0\n",
    "    def calc(self):\n",
    "        ans = self.len * self.bth\n",
    "        return ans"
   ]
  },
  {
   "cell_type": "code",
   "execution_count": 9,
   "id": "f9deb3cf",
   "metadata": {},
   "outputs": [],
   "source": [
    "class Dog:\n",
    "    def __init__(self,breed,color,age):\n",
    "        self.breed = breed\n",
    "        self.color = color\n",
    "        self.age = age\n",
    "    def show(self):\n",
    "        print(\"The Dog Details\")\n",
    "        print(\"breed\",self.breed)\n",
    "        print('age',self.age)\n"
   ]
  },
  {
   "cell_type": "code",
   "execution_count": 12,
   "id": "1b283a28",
   "metadata": {},
   "outputs": [
    {
     "name": "stdout",
     "output_type": "stream",
     "text": [
      "The Dog Details\n",
      "breed Golden reteiver\n",
      "age 3\n",
      "The Dog Details\n",
      "breed Dalmatian\n",
      "age 5\n",
      "The Dog Details\n",
      "breed Bulldog\n",
      "age 6\n",
      "The Dog Details\n",
      "breed German Sheperd\n",
      "age 4\n"
     ]
    }
   ],
   "source": [
    "bruno = Dog('Golden reteiver','golden',3)\n",
    "buddy = Dog('Dalmatian','black & White',5)\n",
    "sammy = Dog('Bulldog','black',6)\n",
    "alex = Dog('German Sheperd','Brown',4)\n",
    "\n",
    "bruno.show()\n",
    "buddy.show()\n",
    "sammy.show()\n",
    "alex.show()"
   ]
  },
  {
   "cell_type": "code",
   "execution_count": 11,
   "id": "b19b4b6e",
   "metadata": {},
   "outputs": [],
   "source": [
    "doglist = [bruno,sammy,alex,buddy]"
   ]
  },
  {
   "cell_type": "code",
   "execution_count": 13,
   "id": "f2ff4010",
   "metadata": {},
   "outputs": [
    {
     "name": "stdout",
     "output_type": "stream",
     "text": [
      "The Dog Details\n",
      "breed Bulldog\n",
      "age 6\n",
      "None\n"
     ]
    }
   ],
   "source": [
    "doglist = [bruno,sammy,alex,buddy]\n",
    "#display details of the eldest dogs using logic\n",
    "age = 0\n",
    "eldest_dog = None\n",
    "for dog in doglist:\n",
    "    if age <= dog.age:\n",
    "        age = dog.age\n",
    "        eldest_dog = dog\n",
    "print(eldest_dog.show())"
   ]
  },
  {
   "cell_type": "code",
   "execution_count": null,
   "id": "3f2bd750",
   "metadata": {},
   "outputs": [],
   "source": []
  }
 ],
 "metadata": {
  "kernelspec": {
   "display_name": "Python 3",
   "language": "python",
   "name": "python3"
  },
  "language_info": {
   "codemirror_mode": {
    "name": "ipython",
    "version": 3
   },
   "file_extension": ".py",
   "mimetype": "text/x-python",
   "name": "python",
   "nbconvert_exporter": "python",
   "pygments_lexer": "ipython3",
   "version": "3.13.6"
  }
 },
 "nbformat": 4,
 "nbformat_minor": 5
}
