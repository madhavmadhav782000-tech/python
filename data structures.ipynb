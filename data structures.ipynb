{
 "cells": [
  {
   "cell_type": "code",
   "execution_count": 3,
   "id": "9f328b3d",
   "metadata": {},
   "outputs": [
    {
     "name": "stdout",
     "output_type": "stream",
     "text": [
      "[1, 2, 3]\n",
      "['apple', 'kiwi', 'langoan']\n",
      "[1, 2, 3, 4, 5, 6]\n",
      "[1, 1, 1, 1, 1, 1, 1, 1, 1, 1]\n",
      "[1, 2, 1, 2, 1, 2, 1, 2, 1, 2]\n",
      "[1, 1, 1, 1, 1, 1, 1, 1, 1, 1, 1, 1, 1, 1, 1, 1, 1, 1, 1, 1]\n"
     ]
    }
   ],
   "source": [
    "x=[]#empty\n",
    "x=list()#empty\n",
    "y=[1,2,3]#dirct intialization\n",
    "print(y)\n",
    "fruits=[]\n",
    "fruits.append('apple')\n",
    "fruits.append('kiwi')\n",
    "fruits.append('langoan')\n",
    "print(fruits)\n",
    "x=[1,2,3]\n",
    "y=[4,5,6]\n",
    "z=x+y #concatinate list\n",
    "print(z)\n",
    "a=[1]*10\n",
    "print(a)\n",
    "b=[1,2]*5\n",
    "c=a*2\n",
    "print(b)\n",
    "print(c)\n"
   ]
  },
  {
   "cell_type": "code",
   "execution_count": null,
   "id": "c69270e6",
   "metadata": {},
   "outputs": [],
   "source": [
    "students=[\"bhargav\",\"sameer\",\"srikanth\",\"yaswanth\",\"yaswanth kumar\",\"vamsi\",\"ram\",\"balaji\",\"abhi\",\"ruhi\",\"varsha\",\"sumithra\",\"lahari\",\"jyoshna\",\"meghana\",\"anjali\",\"geetha\"]"
   ]
  },
  {
   "cell_type": "markdown",
   "id": "b7e89edd",
   "metadata": {},
   "source": [
    "List   books = []\n",
    "creation   #adding omne item at a time\n",
    "add  "
   ]
  },
  {
   "cell_type": "code",
   "execution_count": 8,
   "id": "b13d95ce",
   "metadata": {},
   "outputs": [
    {
     "ename": "IndentationError",
     "evalue": "unexpected indent (4140825501.py, line 2)",
     "output_type": "error",
     "traceback": [
      "  \u001b[36mCell\u001b[39m\u001b[36m \u001b[39m\u001b[32mIn[8]\u001b[39m\u001b[32m, line 2\u001b[39m\n\u001b[31m    \u001b[39m\u001b[31mcolors.extend(['yellow','black'])\u001b[39m\n    ^\n\u001b[31mIndentationError\u001b[39m\u001b[31m:\u001b[39m unexpected indent\n"
     ]
    }
   ],
   "source": [
    "COLORS = ['red','green','blue']\n",
    " colors.extend(['yellow','black'])\n",
    "print(colors)\n",
    "colors2 = [\"purple\",\"pink\",\"yellow\"]\n",
    "colors.extend(colors2)\n",
    "print ()\n"
   ]
  },
  {
   "cell_type": "code",
   "execution_count": 9,
   "id": "ee1d3217",
   "metadata": {},
   "outputs": [
    {
     "ename": "NameError",
     "evalue": "name 'python' is not defined",
     "output_type": "error",
     "traceback": [
      "\u001b[31m---------------------------------------------------------------------------\u001b[39m",
      "\u001b[31mNameError\u001b[39m                                 Traceback (most recent call last)",
      "\u001b[36mCell\u001b[39m\u001b[36m \u001b[39m\u001b[32mIn[9]\u001b[39m\u001b[32m, line 1\u001b[39m\n\u001b[32m----> \u001b[39m\u001b[32m1\u001b[39m \u001b[43mpython\u001b[49m\n\u001b[32m      2\u001b[39m colors = [\u001b[33m'\u001b[39m\u001b[33mred\u001b[39m\u001b[33m'\u001b[39m, \u001b[33m'\u001b[39m\u001b[33mgreen\u001b[39m\u001b[33m'\u001b[39m, \u001b[33m'\u001b[39m\u001b[33mblue\u001b[39m\u001b[33m'\u001b[39m]\n\u001b[32m      3\u001b[39m colors.extend([\u001b[33m'\u001b[39m\u001b[33myellow\u001b[39m\u001b[33m'\u001b[39m, \u001b[33m'\u001b[39m\u001b[33mblack\u001b[39m\u001b[33m'\u001b[39m])\n",
      "\u001b[31mNameError\u001b[39m: name 'python' is not defined"
     ]
    }
   ],
   "source": [
    "python\n",
    "colors = ['red', 'green', 'blue']\n",
    "colors.extend(['yellow', 'black'])\n",
    "print(colors)\n",
    "\n",
    "colors2 = [\"purple\", \"pink\", \"yellow\"]\n",
    "colors.extend(colors2)\n",
    "print(colors)\n"
   ]
  },
  {
   "cell_type": "markdown",
   "id": "3a4c1037",
   "metadata": {},
   "source": [
    "List methods\n",
    "Adding Elements\n",
    "    1. append()' -> add one element to the end of the list\n",
    "    2. insert()' -> add one element to the specific  position\n",
    "    3. extend()' -> append multiple items in a list\n",
    "Removing Elements\n",
    "    1. remove() -> remove the first occurrence of a value\n",
    "    2. pop() -> remove and retuen an element from an index\n",
    "    3. clear() -> remove all elements from the list"
   ]
  },
  {
   "cell_type": "code",
   "execution_count": 2,
   "id": "b629c2c8",
   "metadata": {},
   "outputs": [],
   "source": [
    "books = ['hero of ages','well of accension','warbreaker','night blood','the final empire','alexander','king of thrones','new moon','harry potter and goblet fire','wind and truth']"
   ]
  },
  {
   "cell_type": "code",
   "execution_count": 3,
   "id": "a7341e18",
   "metadata": {},
   "outputs": [
    {
     "name": "stdout",
     "output_type": "stream",
     "text": [
      "size of book list 10\n"
     ]
    }
   ],
   "source": [
    "print(\"size of book list\",  len (books))"
   ]
  },
  {
   "cell_type": "code",
   "execution_count": 7,
   "id": "6f8b6cf7",
   "metadata": {},
   "outputs": [
    {
     "ename": "ValueError",
     "evalue": "list.remove(x): x not in list",
     "output_type": "error",
     "traceback": [
      "\u001b[31m---------------------------------------------------------------------------\u001b[39m",
      "\u001b[31mValueError\u001b[39m                                Traceback (most recent call last)",
      "\u001b[36mCell\u001b[39m\u001b[36m \u001b[39m\u001b[32mIn[7]\u001b[39m\u001b[32m, line 1\u001b[39m\n\u001b[32m----> \u001b[39m\u001b[32m1\u001b[39m \u001b[43mbooks\u001b[49m\u001b[43m.\u001b[49m\u001b[43mremove\u001b[49m\u001b[43m(\u001b[49m\u001b[33;43m\"\u001b[39;49m\u001b[33;43mnew moon\u001b[39;49m\u001b[33;43m\"\u001b[39;49m\u001b[43m)\u001b[49m\n",
      "\u001b[31mValueError\u001b[39m: list.remove(x): x not in list"
     ]
    }
   ],
   "source": [
    "books.remove(\"new moon\")\n"
   ]
  },
  {
   "cell_type": "code",
   "execution_count": 8,
   "id": "a99fd38e",
   "metadata": {},
   "outputs": [
    {
     "name": "stdout",
     "output_type": "stream",
     "text": [
      "['hero of ages', 'well of accension', 'warbreaker', 'night blood', 'the final empire', 'alexander', 'king of thrones', 'harry potter and goblet fire', 'wind and truth']\n"
     ]
    }
   ],
   "source": [
    "print(books)"
   ]
  },
  {
   "cell_type": "code",
   "execution_count": 9,
   "id": "bc5026fa",
   "metadata": {},
   "outputs": [
    {
     "name": "stdout",
     "output_type": "stream",
     "text": [
      "['hero of ages', 'warbreaker', 'night blood', 'the final empire', 'alexander', 'king of thrones', 'harry potter and goblet fire', 'wind and truth']\n"
     ]
    }
   ],
   "source": [
    " # validation based removal\n",
    "if \"well of accension\" in books:\n",
    "    books.remove(\"well of accension\")\n",
    "print(books)    \n",
    "                 "
   ]
  },
  {
   "cell_type": "code",
   "execution_count": 10,
   "id": "029c33fe",
   "metadata": {},
   "outputs": [
    {
     "data": {
      "text/plain": [
       "'the final empire'"
      ]
     },
     "execution_count": 10,
     "metadata": {},
     "output_type": "execute_result"
    }
   ],
   "source": [
    "books.pop(3)"
   ]
  },
  {
   "cell_type": "code",
   "execution_count": 11,
   "id": "c3e7d075",
   "metadata": {},
   "outputs": [
    {
     "data": {
      "text/plain": [
       "'king of thrones'"
      ]
     },
     "execution_count": 11,
     "metadata": {},
     "output_type": "execute_result"
    }
   ],
   "source": [
    "books.pop(4)"
   ]
  },
  {
   "cell_type": "code",
   "execution_count": 12,
   "id": "bf8eda6b",
   "metadata": {},
   "outputs": [
    {
     "data": {
      "text/plain": [
       "'wind and truth'"
      ]
     },
     "execution_count": 12,
     "metadata": {},
     "output_type": "execute_result"
    }
   ],
   "source": [
    "books.pop()"
   ]
  },
  {
   "cell_type": "code",
   "execution_count": 13,
   "id": "88ae9f6e",
   "metadata": {},
   "outputs": [
    {
     "name": "stdout",
     "output_type": "stream",
     "text": [
      "[]\n"
     ]
    }
   ],
   "source": [
    "books.clear()\n",
    "print(books)\n"
   ]
  },
  {
   "cell_type": "code",
   "execution_count": 20,
   "id": "65ef5609",
   "metadata": {},
   "outputs": [],
   "source": [
    "languages = ['c','phython','java','kotlin','dart','go','c++','c#','html','java script','scala','rust','mojo','assembly']\n",
    "numbers = [12,56,23,67,13,17,18,22,27,92,94,97,45,23,27,]\n",
    "data =[ 1, 'apple' , 2, 'apricot', 3, ' dragon']"
   ]
  },
  {
   "cell_type": "code",
   "execution_count": 21,
   "id": "b7962f91",
   "metadata": {},
   "outputs": [
    {
     "name": "stdout",
     "output_type": "stream",
     "text": [
      "original [1, 'apple', 2, 'apricot', 3, ' dragon']\n",
      "reversed [' dragon', 3, 'apricot', 2, 'apple', 1]\n"
     ]
    }
   ],
   "source": [
    "print(\"original\",data)\n",
    "data.reverse() # reverse the list\n",
    "print(\"reversed\",data)"
   ]
  },
  {
   "cell_type": "code",
   "execution_count": 1,
   "id": "d811c0d8",
   "metadata": {},
   "outputs": [],
   "source": [
    "fruits=\"mango\",\"apple\",\"dragon fruit\",\"banana\",\"grapes\",\"orange\",\"litchi\",\"loungine\",\"pine apple\",\"watermelon\""
   ]
  },
  {
   "cell_type": "code",
   "execution_count": null,
   "id": "8fc5a885",
   "metadata": {},
   "outputs": [],
   "source": [
    " series=\"money heist\",\"game thrones\",\"mirzapur\",\"\""
   ]
  },
  {
   "cell_type": "code",
   "execution_count": 1,
   "id": "9ac3379e",
   "metadata": {},
   "outputs": [
    {
     "ename": "SyntaxError",
     "evalue": "invalid syntax (1603384641.py, line 1)",
     "output_type": "error",
     "traceback": [
      "  \u001b[36mCell\u001b[39m\u001b[36m \u001b[39m\u001b[32mIn[1]\u001b[39m\u001b[32m, line 1\u001b[39m\n\u001b[31m    \u001b[39m\u001b[31mx=[] I\u001b[39m\n         ^\n\u001b[31mSyntaxError\u001b[39m\u001b[31m:\u001b[39m invalid syntax\n"
     ]
    }
   ],
   "source": [
    "x=[] I\n",
    "x2=[[]]\n",
    "print(x)\n",
    "\n"
   ]
  },
  {
   "cell_type": "code",
   "execution_count": 2,
   "id": "f9c4d0dc",
   "metadata": {},
   "outputs": [
    {
     "ename": "NameError",
     "evalue": "name 'x' is not defined",
     "output_type": "error",
     "traceback": [
      "\u001b[31m---------------------------------------------------------------------------\u001b[39m",
      "\u001b[31mNameError\u001b[39m                                 Traceback (most recent call last)",
      "\u001b[36mCell\u001b[39m\u001b[36m \u001b[39m\u001b[32mIn[2]\u001b[39m\u001b[32m, line 1\u001b[39m\n\u001b[32m----> \u001b[39m\u001b[32m1\u001b[39m \u001b[43mx\u001b[49m.append(\u001b[32m1\u001b[39m)\n\u001b[32m      2\u001b[39m x.append(\u001b[32m2\u001b[39m)\n\u001b[32m      3\u001b[39m x.append(\u001b[32m3\u001b[39m)\n",
      "\u001b[31mNameError\u001b[39m: name 'x' is not defined"
     ]
    }
   ],
   "source": [
    "x.append(1)\n",
    "x.append(2)\n",
    "x.append(3)\n",
    "print(x2)\n",
    "\n",
    "\n"
   ]
  },
  {
   "cell_type": "code",
   "execution_count": null,
   "id": "d366e942",
   "metadata": {},
   "outputs": [],
   "source": [
    "items=[\n",
    "    ['red','green','blue'],\n",
    "    ['apple','gauva','blueberry'],\n",
    "    ['150','100','300']\n",
    "]\n",
    "print(items)\n",
    "print(\"size of list\"),len (\"items\")\n",
    "      print(\"size of list at index 0 is\",len items)\n"
   ]
  },
  {
   "cell_type": "code",
   "execution_count": 2,
   "id": "ff700a7a",
   "metadata": {},
   "outputs": [
    {
     "name": "stdout",
     "output_type": "stream",
     "text": [
      "[[12, 23, 45, 27], [45, 65, 25, 75], [76, 98, 88, 33]]\n"
     ]
    }
   ],
   "source": [
    "matrix = [\n",
    "    [12,23,45,27],\n",
    "    [45,65,25,75],\n",
    "    [76,98,88,33],\n",
    "]\n",
    "\n",
    "\n",
    "print(matrix)"
   ]
  },
  {
   "cell_type": "code",
   "execution_count": 4,
   "id": "818a2019",
   "metadata": {},
   "outputs": [
    {
     "name": "stdout",
     "output_type": "stream",
     "text": [
      "12 \n",
      "23 \n",
      "45 \n",
      "27 \n",
      "45 \n",
      "65 \n",
      "25 \n",
      "75 \n",
      "76 \n",
      "98 \n",
      "88 \n",
      "33 \n"
     ]
    }
   ],
   "source": [
    "for row in matrix:\n",
    "    for val in row:\n",
    "        print(val,end=' ')\n",
    "        print()"
   ]
  },
  {
   "cell_type": "code",
   "execution_count": 6,
   "id": "c1fe1e00",
   "metadata": {},
   "outputs": [
    {
     "name": "stdout",
     "output_type": "stream",
     "text": [
      "39778534816020000000\n"
     ]
    }
   ],
   "source": [
    "total = 1\n",
    "for row in matrix:\n",
    "    for val in row:\n",
    "        total *= val\n",
    "print(total)        "
   ]
  },
  {
   "cell_type": "code",
   "execution_count": 7,
   "id": "aee710d5",
   "metadata": {},
   "outputs": [
    {
     "name": "stdout",
     "output_type": "stream",
     "text": [
      "[12, 23, 45, 27] => 12\n",
      "[12, 23, 45, 27] => 35\n",
      "[12, 23, 45, 27] => 80\n",
      "[12, 23, 45, 27] => 107\n",
      "[45, 65, 25, 75] => 45\n",
      "[45, 65, 25, 75] => 110\n",
      "[45, 65, 25, 75] => 135\n",
      "[45, 65, 25, 75] => 210\n",
      "[76, 98, 88, 33] => 76\n",
      "[76, 98, 88, 33] => 174\n",
      "[76, 98, 88, 33] => 262\n",
      "[76, 98, 88, 33] => 295\n"
     ]
    }
   ],
   "source": [
    "for row in matrix:\n",
    "    total=0\n",
    "    for value in row:\n",
    "        total += value\n",
    "        print(row,'=>', total)"
   ]
  },
  {
   "cell_type": "code",
   "execution_count": 8,
   "id": "f0a76af1",
   "metadata": {},
   "outputs": [
    {
     "name": "stdout",
     "output_type": "stream",
     "text": [
      "[12, 23, 45, 27] => 12\n",
      "[12, 23, 45, 27] => 35\n",
      "[12, 23, 45, 27] => 80\n",
      "[12, 23, 45, 27] => 107\n",
      "[45, 65, 25, 75] => 45\n",
      "[45, 65, 25, 75] => 110\n",
      "[45, 65, 25, 75] => 135\n",
      "[45, 65, 25, 75] => 210\n",
      "[76, 98, 88, 33] => 76\n",
      "[76, 98, 88, 33] => 174\n",
      "[76, 98, 88, 33] => 262\n",
      "[76, 98, 88, 33] => 295\n"
     ]
    }
   ],
   "source": [
    "for col in matrix:\n",
    "    total=0\n",
    "    for value in col:\n",
    "        total +=value\n",
    "        print(col,'=>',total)"
   ]
  },
  {
   "cell_type": "code",
   "execution_count": 9,
   "id": "d242169a",
   "metadata": {},
   "outputs": [],
   "source": [
    "size = len (matrix[0])\n",
    "for i in range(size):\n",
    "    total = 0"
   ]
  },
  {
   "cell_type": "code",
   "execution_count": null,
   "id": "6b0ea97d",
   "metadata": {},
   "outputs": [],
   "source": [
    "size = len(matrix[0])\n",
    " for c in range(size):\n",
    " total = 0\n",
    " for r in range(len(matrix)):\n",
    "     total += matrix[r][c]\n",
    " print(f\"column\")     \n",
    " "
   ]
  },
  {
   "cell_type": "code",
   "execution_count": 1,
   "id": "d60d6747",
   "metadata": {},
   "outputs": [
    {
     "data": {
      "text/plain": [
       "[13, 15, 19]"
      ]
     },
     "execution_count": 1,
     "metadata": {},
     "output_type": "execute_result"
    }
   ],
   "source": [
    "x = [11,12,13,15,19]\n",
    "x[0:3]\n",
    "x[2:len(x)]\n"
   ]
  },
  {
   "cell_type": "code",
   "execution_count": 2,
   "id": "2a0e309c",
   "metadata": {},
   "outputs": [
    {
     "ename": "SyntaxError",
     "evalue": "invalid syntax (973821340.py, line 1)",
     "output_type": "error",
     "traceback": [
      "  \u001b[36mCell\u001b[39m\u001b[36m \u001b[39m\u001b[32mIn[2]\u001b[39m\u001b[32m, line 1\u001b[39m\n\u001b[31m    \u001b[39m\u001b[31mx = [3:6]\u001b[39m\n          ^\n\u001b[31mSyntaxError\u001b[39m\u001b[31m:\u001b[39m invalid syntax\n"
     ]
    }
   ],
   "source": [
    "x = [3:6]\n",
    "x = [-5:-3]\n",
    "x = [3:-3]\n",
    "x = [-5:6]\n"
   ]
  },
  {
   "cell_type": "code",
   "execution_count": null,
   "id": "59e7ffbe",
   "metadata": {},
   "outputs": [],
   "source": []
  },
  {
   "cell_type": "markdown",
   "id": "f166be6f",
   "metadata": {},
   "source": [
    "# slicicng syntax"
   ]
  },
  {
   "cell_type": "code",
   "execution_count": 8,
   "id": "ac4506c6",
   "metadata": {},
   "outputs": [
    {
     "data": {
      "text/plain": [
       "'shak'"
      ]
     },
     "execution_count": 8,
     "metadata": {},
     "output_type": "execute_result"
    }
   ],
   "source": [
    "\n",
    "name = \"william shakepeare\"\n",
    "name[8:-6]\n"
   ]
  },
  {
   "cell_type": "code",
   "execution_count": 9,
   "id": "c45e45bb",
   "metadata": {},
   "outputs": [
    {
     "data": {
      "text/plain": [
       "'lliam shakespear'"
      ]
     },
     "execution_count": 9,
     "metadata": {},
     "output_type": "execute_result"
    }
   ],
   "source": [
    "name = \"william shakespeare\"\n",
    "name[2:-1]"
   ]
  },
  {
   "cell_type": "code",
   "execution_count": 11,
   "id": "551e424d",
   "metadata": {},
   "outputs": [
    {
     "data": {
      "text/plain": [
       "'hakespeare'"
      ]
     },
     "execution_count": 11,
     "metadata": {},
     "output_type": "execute_result"
    }
   ],
   "source": [
    "name = \"williamshakespeare\"\n",
    "name[:7]\n",
    "name[8:]\n",
    "\n"
   ]
  },
  {
   "cell_type": "code",
   "execution_count": 13,
   "id": "92be7d18",
   "metadata": {},
   "outputs": [
    {
     "data": {
      "text/plain": [
       "'MDA'"
      ]
     },
     "execution_count": 13,
     "metadata": {},
     "output_type": "execute_result"
    }
   ],
   "source": [
    "name =  \"MADHAV\"\n",
    "name[: :2]"
   ]
  },
  {
   "cell_type": "code",
   "execution_count": 14,
   "id": "051ad535",
   "metadata": {},
   "outputs": [
    {
     "data": {
      "text/plain": [
       "'ahv'"
      ]
     },
     "execution_count": 14,
     "metadata": {},
     "output_type": "execute_result"
    }
   ],
   "source": [
    "    name = \"madhav\"\n",
    "    name[1: :2]"
   ]
  },
  {
   "cell_type": "code",
   "execution_count": 15,
   "id": "9908e35e",
   "metadata": {},
   "outputs": [
    {
     "data": {
      "text/plain": [
       "'dm'"
      ]
     },
     "execution_count": 15,
     "metadata": {},
     "output_type": "execute_result"
    }
   ],
   "source": [
    "name = \"maddipati madhav\"\n",
    "name[3: :7]                        "
   ]
  },
  {
   "cell_type": "code",
   "execution_count": 2,
   "id": "53133b28",
   "metadata": {},
   "outputs": [
    {
     "data": {
      "text/plain": [
       "'t ahv'"
      ]
     },
     "execution_count": 2,
     "metadata": {},
     "output_type": "execute_result"
    }
   ],
   "source": [
    "name = \"maddipati madhav\"\n",
    "fname = name[ :7]\n",
    "mname = name[6:7]\n",
    "name = name[7:]\n",
    "name[::2]\n"
   ]
  },
  {
   "cell_type": "code",
   "execution_count": 13,
   "id": "51e60508",
   "metadata": {},
   "outputs": [
    {
     "name": "stdout",
     "output_type": "stream",
     "text": [
      "13\n",
      "9\n",
      "8\n",
      "7\n",
      "6\n",
      "5\n",
      "4\n",
      "3\n",
      "2\n",
      "1\n"
     ]
    }
   ],
   "source": [
    "x =[1,2,3,4,5,6,7,8,9,13]\n",
    "for item in x [::-1]:\n",
    "  print(item)\n"
   ]
  },
  {
   "cell_type": "code",
   "execution_count": 18,
   "id": "93cda037",
   "metadata": {},
   "outputs": [
    {
     "name": "stdout",
     "output_type": "stream",
     "text": [
      "[1, 3, 4, 5] [2, 2, 2, 2]\n"
     ]
    }
   ],
   "source": [
    "x = [1,3,4,5]\n",
    "x2 = []\n",
    "for i in x:\n",
    "    s=1*2\n",
    "    x2.append(s)\n",
    "print(x,x2)\n"
   ]
  },
  {
   "cell_type": "code",
   "execution_count": 19,
   "id": "2ca475b0",
   "metadata": {},
   "outputs": [
    {
     "name": "stdout",
     "output_type": "stream",
     "text": [
      "[4, 8, 12, 16] [2, 4, 6, 8]\n"
     ]
    }
   ],
   "source": [
    "x = [4,8,12,16]\n",
    "x3 = []\n",
    "for i in x:\n",
    "    x3.append(i//2)\n",
    "print(x,x3)"
   ]
  },
  {
   "cell_type": "code",
   "execution_count": 20,
   "id": "9cf98f77",
   "metadata": {},
   "outputs": [
    {
     "name": "stdout",
     "output_type": "stream",
     "text": [
      "[1, 2, 3]\n",
      "[4, 5, 6]\n",
      "[5, 7, 9]\n"
     ]
    }
   ],
   "source": [
    "x = [1,2,3]\n",
    "y = [4,5,6]\n",
    "xy = []\n",
    "for i,j in zip(x,y):\n",
    "    xy.append(i+j)\n",
    "print(x,y,xy,sep='\\n')"
   ]
  },
  {
   "cell_type": "code",
   "execution_count": 21,
   "id": "264cdb0e",
   "metadata": {},
   "outputs": [
    {
     "name": "stdout",
     "output_type": "stream",
     "text": [
      "[4, 9, 16]\n"
     ]
    }
   ],
   "source": [
    "z = [2,3,4]\n",
    "zsqr=[]\n",
    "for i in z:\n",
    "    zsqr.append(i**2)\n",
    "print(zsqr)"
   ]
  },
  {
   "cell_type": "markdown",
   "id": "6c5a8992",
   "metadata": {},
   "source": [
    "simple\n",
    " \n",
    "\n",
    "newlist = [operation for loop]\n",
    "example: x2 = [i**2 for i in x]\n",
    "example: x3 = [a**3 for a in y]"
   ]
  },
  {
   "cell_type": "markdown",
   "id": "d59428d6",
   "metadata": {},
   "source": [
    "condition based \n",
    "   new list = op"
   ]
  },
  {
   "cell_type": "code",
   "execution_count": 1,
   "id": "a561c496",
   "metadata": {},
   "outputs": [
    {
     "name": "stdout",
     "output_type": "stream",
     "text": [
      "(1, 2, 3)\n"
     ]
    }
   ],
   "source": [
    "my_tuple = (1,2,3)\n",
    "print(my_tuple)"
   ]
  },
  {
   "cell_type": "code",
   "execution_count": 2,
   "id": "08381031",
   "metadata": {},
   "outputs": [
    {
     "name": "stdout",
     "output_type": "stream",
     "text": [
      "(1, 'hello', 3.4)\n"
     ]
    }
   ],
   "source": [
    "my_tuple = (1,\"hello\",3.4)\n",
    "print(my_tuple)"
   ]
  },
  {
   "cell_type": "code",
   "execution_count": 3,
   "id": "f49ab882",
   "metadata": {},
   "outputs": [
    {
     "name": "stdout",
     "output_type": "stream",
     "text": [
      "('mouse', [8, 4, 7], (1, 3, 6))\n"
     ]
    }
   ],
   "source": [
    "my_tuple = (\"mouse\",[8,4,7],(1,3,6))\n",
    "print(my_tuple)\n"
   ]
  },
  {
   "cell_type": "code",
   "execution_count": 4,
   "id": "d3cc3977",
   "metadata": {},
   "outputs": [
    {
     "name": "stdout",
     "output_type": "stream",
     "text": [
      "(3, 4.5, 'kiwi')\n"
     ]
    }
   ],
   "source": [
    "my_tuple = 3,4.5, \"kiwi\"\n",
    "print(my_tuple)"
   ]
  },
  {
   "cell_type": "code",
   "execution_count": 5,
   "id": "923a5b71",
   "metadata": {},
   "outputs": [
    {
     "name": "stdout",
     "output_type": "stream",
     "text": [
      "p\n",
      "t\n"
     ]
    }
   ],
   "source": [
    "my_tuple = ('p','e','r','m','n','t')\n",
    "print(my_tuple[0])\n",
    "print(my_tuple[5])\n"
   ]
  },
  {
   "cell_type": "code",
   "execution_count": 10,
   "id": "c5735d5a",
   "metadata": {},
   "outputs": [
    {
     "name": "stdout",
     "output_type": "stream",
     "text": [
      "6\n",
      "o\n"
     ]
    }
   ],
   "source": [
    "n_tuple = (\"mouse\",[8,7,6],[1,3,5])\n",
    "print(n_tuple[1][2])\n",
    "print(n_tuple[0][1])\n"
   ]
  },
  {
   "cell_type": "code",
   "execution_count": null,
   "id": "f7352059",
   "metadata": {},
   "outputs": [],
   "source": [
    "my_tuple = ('m','a','d','h','a','v')"
   ]
  },
  {
   "cell_type": "code",
   "execution_count": 11,
   "id": "7d22c3a9",
   "metadata": {},
   "outputs": [
    {
     "name": "stdout",
     "output_type": "stream",
     "text": [
      "('e', 'r', 'm')\n"
     ]
    }
   ],
   "source": [
    "print(my_tuple[1:4])"
   ]
  },
  {
   "cell_type": "code",
   "execution_count": 12,
   "id": "d816f83f",
   "metadata": {},
   "outputs": [
    {
     "name": "stdout",
     "output_type": "stream",
     "text": [
      "()\n"
     ]
    }
   ],
   "source": [
    "print(my_tuple[:-7])"
   ]
  },
  {
   "cell_type": "code",
   "execution_count": 13,
   "id": "f14326e7",
   "metadata": {},
   "outputs": [
    {
     "name": "stdout",
     "output_type": "stream",
     "text": [
      "('p', 'e', 'r', 'm', 'n')\n"
     ]
    }
   ],
   "source": [
    "print(my_tuple[:5])"
   ]
  },
  {
   "cell_type": "code",
   "execution_count": 15,
   "id": "b4540b5d",
   "metadata": {},
   "outputs": [
    {
     "name": "stdout",
     "output_type": "stream",
     "text": [
      "('p', 'e', 'r', 'm', 'n', 't')\n"
     ]
    }
   ],
   "source": [
    "print(my_tuple[:])"
   ]
  },
  {
   "cell_type": "code",
   "execution_count": 16,
   "id": "2051bd26",
   "metadata": {},
   "outputs": [
    {
     "name": "stdout",
     "output_type": "stream",
     "text": [
      "(1, 2, 3, 7, 8, 9)\n"
     ]
    }
   ],
   "source": [
    "print((1,2,3)+(7,8,9))\n"
   ]
  },
  {
   "cell_type": "code",
   "execution_count": 17,
   "id": "ffd44f22",
   "metadata": {},
   "outputs": [
    {
     "name": "stdout",
     "output_type": "stream",
     "text": [
      "('repeat', 'repeat', 'repeat')\n"
     ]
    }
   ],
   "source": [
    "print((\"repeat\",)*3)"
   ]
  },
  {
   "cell_type": "code",
   "execution_count": 20,
   "id": "8bd4e51c",
   "metadata": {},
   "outputs": [
    {
     "name": "stdout",
     "output_type": "stream",
     "text": [
      "2\n",
      "3\n"
     ]
    }
   ],
   "source": [
    "my_tuple = ('a','p','p','l','e')\n",
    "print(my_tuple.count('p'))\n",
    "print(my_tuple.index('l'))\n"
   ]
  },
  {
   "cell_type": "code",
   "execution_count": null,
   "id": "6b92750f",
   "metadata": {},
   "outputs": [],
   "source": [
    "name = maddipati madhav\n",
    "email = madhavmadhav782000@gmail.com\n",
    "city  = tirupati\n",
    "home town = gudur\n",
    "mca student = yes\n",
    "days schooler = nonlocal\n",
    "programming = python"
   ]
  },
  {
   "cell_type": "code",
   "execution_count": 2,
   "id": "62e35801",
   "metadata": {},
   "outputs": [
    {
     "name": "stdout",
     "output_type": "stream",
     "text": [
      "{'color': 'lavender', 'shape': 'hexogon', 'size': '7 metres', 'material': 'fibre'}\n"
     ]
    }
   ],
   "source": [
    "d3 = {\n",
    "    'color':'lavender',\n",
    "    'shape':'hexogon',\n",
    "    'size':'7 metres',\n",
    "    'material':'fibre'\n",
    "}\n",
    "print(d3)"
   ]
  },
  {
   "cell_type": "code",
   "execution_count": 3,
   "id": "001ac36e",
   "metadata": {},
   "outputs": [
    {
     "name": "stdout",
     "output_type": "stream",
     "text": [
      "{'fact1': 'all keys in the dictionary should be unique', 'fact2': 'all keys immutable so only string and tuple are allowed as keys', 'fact3': 'value of key can be of any type ->string,num,list,dict'}\n"
     ]
    }
   ],
   "source": [
    "info = {\n",
    "    'fact1': 'all keys in the dictionary should be unique',\n",
    "    'fact2': 'all keys immutable so only string and tuple are allowed as keys',\n",
    "    'fact3': 'value of key can be of any type ->string,num,list,dict'\n",
    "}\n",
    "print (info)"
   ]
  },
  {
   "cell_type": "code",
   "execution_count": 6,
   "id": "ee258280",
   "metadata": {},
   "outputs": [
    {
     "name": "stdout",
     "output_type": "stream",
     "text": [
      "{'name': 'mobile', 'price': '32999', 'features': {'camera': '50 mp', 'os': 17, 'ram': '16 gb'}, 'brand': 'iqoo', 'model': 'neo 7'}\n"
     ]
    }
   ],
   "source": [
    "product = {\n",
    "    'name':'mobile',\n",
    "    'price':'32999',\n",
    "    'features':{'camera':'50 mp','os':17,'ram':'16 gb'},\n",
    "    'brand':'iqoo',\n",
    "    'model':'neo 7'\n",
    "\n",
    "}\n",
    "print(product)"
   ]
  },
  {
   "cell_type": "code",
   "execution_count": 7,
   "id": "cced018f",
   "metadata": {},
   "outputs": [
    {
     "name": "stdout",
     "output_type": "stream",
     "text": [
      "neo 7\n"
     ]
    }
   ],
   "source": [
    "print(product.get('model'))"
   ]
  },
  {
   "cell_type": "code",
   "execution_count": 9,
   "id": "42e38ab0",
   "metadata": {},
   "outputs": [
    {
     "name": "stdout",
     "output_type": "stream",
     "text": [
      "iqoo\n"
     ]
    }
   ],
   "source": [
    "print(product.get('brand'))"
   ]
  },
  {
   "cell_type": "code",
   "execution_count": 1,
   "id": "3fa5ab1e",
   "metadata": {},
   "outputs": [],
   "source": [
    "contact = {}"
   ]
  },
  {
   "cell_type": "code",
   "execution_count": 1,
   "id": "226f159f",
   "metadata": {},
   "outputs": [
    {
     "name": "stdout",
     "output_type": "stream",
     "text": [
      "contact Book\n",
      "Search Contact\n",
      "💀 Contact not found\n",
      "Okay 🙂\n",
      "👋 Byeee\n"
     ]
    }
   ],
   "source": [
    "contacts = {\n",
    "    'emergency' : 108\n",
    "}\n",
    "print(\"contact Book\")\n",
    "while True:\n",
    "    print(\"Search Contact\")\n",
    "    name = input(\"Name 👉 \")\n",
    "    if name in contacts:\n",
    "        print(\"🔎 Contact  found\")\n",
    "        print(name, '🤙', contacts.get(name))\n",
    "    else:\n",
    "        print(\"💀 Contact not found\")\n",
    "        ch = input(\"Don you want to add it? Y/N : \")\n",
    "        if ch == 'Y':\n",
    "            num = input(\"Enter (name)'s number: \")\n",
    "            contacts[name] = num\n",
    "            print(\"✅ Success! contact added\")\n",
    "        else:\n",
    "            print(\"Okay 🙂\")\n",
    "    quit = input(\"Do you want to continue? Y/N\")\n",
    "    if quit != 'Y' or quit != 'y':\n",
    "        print(\"👋 Byeee\")\n",
    "        break"
   ]
  },
  {
   "cell_type": "code",
   "execution_count": null,
   "id": "d61ab7d9",
   "metadata": {},
   "outputs": [],
   "source": []
  }
 ],
 "metadata": {
  "kernelspec": {
   "display_name": "Python 3",
   "language": "python",
   "name": "python3"
  },
  "language_info": {
   "codemirror_mode": {
    "name": "ipython",
    "version": 3
   },
   "file_extension": ".py",
   "mimetype": "text/x-python",
   "name": "python",
   "nbconvert_exporter": "python",
   "pygments_lexer": "ipython3",
   "version": "3.13.6"
  }
 },
 "nbformat": 4,
 "nbformat_minor": 5
}
