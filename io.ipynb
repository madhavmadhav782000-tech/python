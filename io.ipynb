{
 "cells": [
  {
   "cell_type": "code",
   "execution_count": 1,
   "id": "bd4fce17",
   "metadata": {},
   "outputs": [],
   "source": [
    "name = \"madhav\"\n",
    "city = \"gudur\""
   ]
  },
  {
   "cell_type": "code",
   "execution_count": 2,
   "id": "68aeb1e8",
   "metadata": {},
   "outputs": [
    {
     "ename": "SyntaxError",
     "evalue": "invalid syntax (1863141108.py, line 3)",
     "output_type": "error",
     "traceback": [
      "  \u001b[36mCell\u001b[39m\u001b[36m \u001b[39m\u001b[32mIn[2]\u001b[39m\u001b[32m, line 3\u001b[39m\n\u001b[31m    \u001b[39m\u001b[31minput()function is used for taking user input\u001b[39m\n           ^\n\u001b[31mSyntaxError\u001b[39m\u001b[31m:\u001b[39m invalid syntax\n"
     ]
    }
   ],
   "source": [
    "input in Python\n",
    "\n",
    "input()function is used for taking user input"
   ]
  },
  {
   "cell_type": "code",
   "execution_count": 3,
   "id": "4a9417fc",
   "metadata": {},
   "outputs": [],
   "source": [
    "name = input()"
   ]
  },
  {
   "cell_type": "code",
   "execution_count": 9,
   "id": "df99f734",
   "metadata": {},
   "outputs": [
    {
     "ename": "NameError",
     "evalue": "name 'madhav' is not defined",
     "output_type": "error",
     "traceback": [
      "\u001b[31m---------------------------------------------------------------------------\u001b[39m",
      "\u001b[31mNameError\u001b[39m                                 Traceback (most recent call last)",
      "\u001b[36mCell\u001b[39m\u001b[36m \u001b[39m\u001b[32mIn[9]\u001b[39m\u001b[32m, line 1\u001b[39m\n\u001b[32m----> \u001b[39m\u001b[32m1\u001b[39m name = \u001b[43mmadhav\u001b[49m(\u001b[33m\"\u001b[39m\u001b[33mmaddipati =>\u001b[39m\u001b[33m\"\u001b[39m)\n\u001b[32m      2\u001b[39m city = gudur(\u001b[33m\"\u001b[39m\u001b[33mnellatur =>\u001b[39m\u001b[33m\"\u001b[39m)\n\u001b[32m      3\u001b[39m addr = gudur(\u001b[33m\"\u001b[39m\u001b[33mnellatur =>\u001b[39m\u001b[33m\"\u001b[39m)\n",
      "\u001b[31mNameError\u001b[39m: name 'madhav' is not defined"
     ]
    }
   ],
   "source": [
    "name = madhav(\"maddipati =>\")\n",
    "city = gudur(\"nellatur =>\")\n",
    "addr = gudur(\"nellatur =>\")\n",
    "print(name,city,addr)\n"
   ]
  },
  {
   "cell_type": "code",
   "execution_count": 8,
   "id": "77cb70d5",
   "metadata": {},
   "outputs": [
    {
     "name": "stdout",
     "output_type": "stream",
     "text": [
      "10 20 30\n"
     ]
    }
   ],
   "source": [
    "a = 10 \n",
    "b = 20\n",
    "c = a+b\n",
    "print(a,b,c)"
   ]
  },
  {
   "cell_type": "code",
   "execution_count": 10,
   "id": "4e90c81c",
   "metadata": {},
   "outputs": [
    {
     "name": "stdout",
     "output_type": "stream",
     "text": [
      "5.5\n",
      "11.0\n",
      "34.54\n",
      "94.985\n"
     ]
    }
   ],
   "source": [
    "radius = float(input(\"enter radius of circle\"))\n",
    "diameter = radius * 2\n",
    "circumfrance = 2 * 3.14 *  radius\n",
    "area = 3.14 * radius ** 2\n",
    " \n",
    "print(radius)\n",
    "print(diameter)\n",
    "print(circumfrance)\n",
    "print(area)"
   ]
  },
  {
   "cell_type": "code",
   "execution_count": 11,
   "id": "df4afd6d",
   "metadata": {},
   "outputs": [
    {
     "name": "stdout",
     "output_type": "stream",
     "text": [
      "5.5\n",
      "27.5\n",
      "15803.129375\n"
     ]
    }
   ],
   "source": [
    "radius = float(input(\"enter radius of circle\"))\n",
    "diameter = radius * 5\n",
    "area = 3.14 * radius ** 5\n",
    "\n",
    "\n",
    "print(radius)\n",
    "print(diameter)\n",
    "print(area)"
   ]
  },
  {
   "cell_type": "code",
   "execution_count": null,
   "id": "696c7610",
   "metadata": {},
   "outputs": [
    {
     "name": "stdout",
     "output_type": "stream",
     "text": [
      "7899.0\n",
      "8\n",
      "7.7\n",
      "4865.784000000001\n"
     ]
    }
   ],
   "source": [
    "# simple intrest\n",
    "p =  float()\n",
    "t =  8\n",
    "si = p*r*t/100\n",
    "print(p)\n",
    "print(t)\n",
    "print(r)\n",
    "print(si)"
   ]
  },
  {
   "cell_type": "markdown",
   "id": "2ac4769f",
   "metadata": {},
   "source": []
  },
  {
   "cell_type": "code",
   "execution_count": 20,
   "id": "14efaa6e",
   "metadata": {},
   "outputs": [
    {
     "name": "stdout",
     "output_type": "stream",
     "text": [
      "2517.7681800000005\n"
     ]
    }
   ],
   "source": [
    "pi = 3.14\n",
    "r = float(input(\"enter the radius of cylinder\"))\n",
    "h = float(input(\"height of the cylinder\"))\n",
    "v = pi*r**2*h # volume of cylinder\n",
    "print(v)\n"
   ]
  },
  {
   "cell_type": "code",
   "execution_count": 23,
   "id": "e059f57d",
   "metadata": {},
   "outputs": [
    {
     "name": "stdout",
     "output_type": "stream",
     "text": [
      "example\n",
      "six,eight\n",
      "6,8\n",
      "3*13\n",
      "😉😉😉\n"
     ]
    }
   ],
   "source": [
    "print(\"example\")\n",
    "print(\"six,eight\")\n",
    "print(\"6,8\")\n",
    "print(\"3*13\")\n",
    "print(\"😉😉😉\")"
   ]
  },
  {
   "cell_type": "code",
   "execution_count": null,
   "id": "20101c85",
   "metadata": {},
   "outputs": [],
   "source": []
  }
 ],
 "metadata": {
  "kernelspec": {
   "display_name": "Python 3",
   "language": "python",
   "name": "python3"
  },
  "language_info": {
   "codemirror_mode": {
    "name": "ipython",
    "version": 3
   },
   "file_extension": ".py",
   "mimetype": "text/x-python",
   "name": "python",
   "nbconvert_exporter": "python",
   "pygments_lexer": "ipython3",
   "version": "3.13.6"
  }
 },
 "nbformat": 4,
 "nbformat_minor": 5
}
