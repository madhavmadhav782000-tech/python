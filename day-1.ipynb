{
 "cells": [
  {
   "cell_type": "markdown",
   "id": "d7399fcf",
   "metadata": {},
   "source": [
    "---\n",
    "\n",
    "## Problem 1 — Sum of N numbers\n",
    "\n",
    "Read N then N integers; print their sum.\n",
    "\n",
    "Input: N; a1 a2 ... aN\n",
    "\n",
    "Output: sum"
   ]
  },
  {
   "cell_type": "code",
   "execution_count": 13,
   "id": "73e5bad2",
   "metadata": {},
   "outputs": [
    {
     "name": "stdout",
     "output_type": "stream",
     "text": [
      "100\n"
     ]
    }
   ],
   "source": [
    "N = int(input())\n",
    "numbers = list(map(int, input().split()))\n",
    "total = sum(numbers)\n",
    "print(total)"
   ]
  },
  {
   "cell_type": "markdown",
   "id": "519fa76c",
   "metadata": {},
   "source": [
    "---\n",
    "\n",
    "## Problem 2 — Average of N numbers\n",
    "\n",
    "Read N and N integers; print average (2 decimals).\n",
    "\n",
    "Input: N; a1 ... aN\n",
    "\n",
    "Output: average formatted to 2 decimal places"
   ]
  },
  {
   "cell_type": "code",
   "execution_count": 15,
   "id": "975aad2e",
   "metadata": {},
   "outputs": [
    {
     "name": "stdout",
     "output_type": "stream",
     "text": [
      "50.00\n"
     ]
    }
   ],
   "source": [
    "N = int(input())\n",
    "numbers = list(map(int, input().split()))\n",
    "average = sum(numbers) / N\n",
    "print(f\"{average:.2f}\")"
   ]
  },
  {
   "cell_type": "markdown",
   "id": "80af2728",
   "metadata": {},
   "source": [
    "---\n",
    "\n",
    "## Problem 3 — Reverse a string\n",
    "\n",
    "Read string s; print s reversed."
   ]
  },
  {
   "cell_type": "code",
   "execution_count": 1,
   "id": "7a9d9937",
   "metadata": {},
   "outputs": [
    {
     "name": "stdout",
     "output_type": "stream",
     "text": [
      "VAHDAM\n"
     ]
    }
   ],
   "source": [
    "s = input()\n",
    "print(s[::-1])"
   ]
  },
  {
   "cell_type": "markdown",
   "id": "9450e579",
   "metadata": {},
   "source": [
    "---\n",
    "\n",
    "## Problem 4 — Count vowels and consonants\n",
    "\n",
    "Given a word; print number of vowels and consonants.\n",
    "\n",
    "Output: two ints"
   ]
  },
  {
   "cell_type": "code",
   "execution_count": 25,
   "id": "70209ecb",
   "metadata": {},
   "outputs": [
    {
     "name": "stdout",
     "output_type": "stream",
     "text": [
      "3 3\n"
     ]
    }
   ],
   "source": [
    "s = input().lower()\n",
    "vowels = 0\n",
    "consonants = 0\n",
    "\n",
    "for ch in s:\n",
    "    if ch.isalpha():\n",
    "        if ch in \"aeiou\":\n",
    "            vowels += 1\n",
    "        else:\n",
    "            consonants += 1\n",
    "\n",
    "print(vowels, consonants)"
   ]
  },
  {
   "cell_type": "markdown",
   "id": "873e7ec6",
   "metadata": {},
   "source": [
    "---\n",
    "\n",
    "## Problem 5 — Number palindrome check\n",
    "\n",
    "Given integer n; print 'Yes' if palindrome else 'No'."
   ]
  },
  {
   "cell_type": "code",
   "execution_count": 41,
   "id": "31bb7d4a",
   "metadata": {},
   "outputs": [
    {
     "name": "stdout",
     "output_type": "stream",
     "text": [
      "Yes\n"
     ]
    }
   ],
   "source": [
    "n = input()\n",
    "if n == n[::-1]:\n",
    "    print(\"Yes\")\n",
    "else:\n",
    "    print(\"No\")"
   ]
  },
  {
   "cell_type": "markdown",
   "id": "0f28112f",
   "metadata": {},
   "source": [
    "---\n",
    "\n",
    "## Problem 6 — Left star pyramid\n",
    "\n",
    "Given N; print left-aligned pyramid of '*' for N rows."
   ]
  },
  {
   "cell_type": "code",
   "execution_count": 43,
   "id": "c49dd93a",
   "metadata": {},
   "outputs": [
    {
     "name": "stdout",
     "output_type": "stream",
     "text": [
      "*\n",
      "**\n",
      "***\n",
      "****\n"
     ]
    }
   ],
   "source": [
    "N = int(input())\n",
    "for i in range(1, N+1):\n",
    "    print('*' * i)"
   ]
  },
  {
   "cell_type": "markdown",
   "id": "ce358236",
   "metadata": {},
   "source": [
    "---\n",
    "\n",
    "## Problem 7 — Count digits in a number\n",
    "\n",
    "Given a non-negative integer n; print number of digits."
   ]
  },
  {
   "cell_type": "code",
   "execution_count": 44,
   "id": "dfdabf75",
   "metadata": {},
   "outputs": [
    {
     "name": "stdout",
     "output_type": "stream",
     "text": [
      "6\n"
     ]
    }
   ],
   "source": [
    "n = input()\n",
    "print(len(n))"
   ]
  },
  {
   "cell_type": "markdown",
   "id": "0b1cfaf7",
   "metadata": {},
   "source": [
    "---\n",
    "\n",
    "## Problem 8 — Factorial\n",
    "\n",
    "Input: n; Output: n! (iterative)."
   ]
  },
  {
   "cell_type": "code",
   "execution_count": 53,
   "id": "90b4c974",
   "metadata": {},
   "outputs": [
    {
     "name": "stdout",
     "output_type": "stream",
     "text": [
      "720\n"
     ]
    }
   ],
   "source": [
    "n = int(input())\n",
    "fact = 1\n",
    "for i in range(1, n + 1):\n",
    "    fact *= i\n",
    "print(fact)"
   ]
  },
  {
   "cell_type": "markdown",
   "id": "ad6ba20a",
   "metadata": {},
   "source": [
    "---\n",
    "\n",
    "## Problem 9 — Fibonacci\n",
    "\n",
    "Input: n; Output: nth Fibonacci number (0-based, iterative)."
   ]
  },
  {
   "cell_type": "code",
   "execution_count": 55,
   "id": "e92840a4",
   "metadata": {},
   "outputs": [
    {
     "name": "stdout",
     "output_type": "stream",
     "text": [
      "21\n"
     ]
    }
   ],
   "source": [
    "n = int(input())\n",
    "\n",
    "if n == 0:\n",
    "    print(0)\n",
    "elif n == 1:\n",
    "    print(1)\n",
    "else:\n",
    "    a, b = 0, 1\n",
    "    for _ in range(2, n + 1):\n",
    "        a, b = b, a + b\n",
    "    print(b)"
   ]
  },
  {
   "cell_type": "markdown",
   "id": "fa06b756",
   "metadata": {},
   "source": [
    "---\n",
    "\n",
    "## Problem 10 — Prime check\n",
    "\n",
    "Input: n; Output: 'Prime' or 'Not Prime'."
   ]
  },
  {
   "cell_type": "code",
   "execution_count": 64,
   "id": "7d2f3816",
   "metadata": {},
   "outputs": [
    {
     "name": "stdout",
     "output_type": "stream",
     "text": [
      "Prime\n"
     ]
    }
   ],
   "source": [
    "n = int(input())\n",
    "if n < 2:\n",
    "    print(\"Not Prime\")\n",
    "else:\n",
    "    for i in range(2, int(n**0.5) + 1):\n",
    "        if n % i == 0:\n",
    "            print(\"Not Prime\")\n",
    "            break\n",
    "    else:\n",
    "        print(\"Prime\")"
   ]
  },
  {
   "cell_type": "markdown",
   "id": "f7b1fe46",
   "metadata": {},
   "source": [
    "---\n",
    "\n",
    "## Problem 11 — Unique list elements\n",
    "\n",
    "Given a list; return unique elements in original order."
   ]
  },
  {
   "cell_type": "code",
   "execution_count": 67,
   "id": "5be1c020",
   "metadata": {},
   "outputs": [
    {
     "name": "stdout",
     "output_type": "stream",
     "text": [
      "[1, 2, 3, 4, 5]\n"
     ]
    }
   ],
   "source": [
    "lst = list(map(int, input().split()))\n",
    "unique = []\n",
    "for x in lst:\n",
    "    if x not in unique:\n",
    "        unique.append(x)\n",
    "print(unique)"
   ]
  },
  {
   "cell_type": "markdown",
   "id": "ee76a50b",
   "metadata": {},
   "source": [
    "---\n",
    "\n",
    "## Problem 12 — Remove duplicates\n",
    "\n",
    "Given a list; print unique elements (order unspecified, using set)."
   ]
  },
  {
   "cell_type": "code",
   "execution_count": 68,
   "id": "9743a168",
   "metadata": {},
   "outputs": [
    {
     "name": "stdout",
     "output_type": "stream",
     "text": [
      "{1, 2, 3, 4, 5, 6}\n"
     ]
    }
   ],
   "source": [
    "lst = list(map(int, input().split()))\n",
    "unique = set(lst)\n",
    "print(unique)"
   ]
  },
  {
   "cell_type": "markdown",
   "id": "3e73c70b",
   "metadata": {},
   "source": [
    "---\n",
    "\n",
    "## Problem 13 — Max and Min\n",
    "\n",
    "Given a list; print max and min."
   ]
  },
  {
   "cell_type": "code",
   "execution_count": 72,
   "id": "3a44feaa",
   "metadata": {},
   "outputs": [
    {
     "name": "stdout",
     "output_type": "stream",
     "text": [
      "100 12\n"
     ]
    }
   ],
   "source": [
    "lst = list(map(int, input().split()))\n",
    "print(max(lst), min(lst))"
   ]
  },
  {
   "cell_type": "markdown",
   "id": "27233214",
   "metadata": {},
   "source": [
    "---\n",
    "\n",
    "## Problem 14 — Sort list\n",
    "\n",
    "Given a list; return it sorted ascending."
   ]
  },
  {
   "cell_type": "code",
   "execution_count": 74,
   "id": "fc41d54e",
   "metadata": {},
   "outputs": [
    {
     "name": "stdout",
     "output_type": "stream",
     "text": [
      "[1, 2, 3, 4, 5, 5, 9]\n"
     ]
    }
   ],
   "source": [
    "lst = list(map(int, input().split()))\n",
    "lst.sort()\n",
    "print(lst)"
   ]
  },
  {
   "cell_type": "markdown",
   "id": "24ca20e4",
   "metadata": {},
   "source": [
    "---\n",
    "\n",
    "## Problem 15 — Rotate list\n",
    "\n",
    "Given list and k; rotate right by k positions."
   ]
  },
  {
   "cell_type": "code",
   "execution_count": 75,
   "id": "a4676291",
   "metadata": {},
   "outputs": [
    {
     "name": "stdout",
     "output_type": "stream",
     "text": [
      "[5, 6, 1, 2, 3, 4]\n"
     ]
    }
   ],
   "source": [
    "lst = list(map(int, input().split()))\n",
    "k = int(input())\n",
    "k = k % len(lst)  # handle k > len(lst)\n",
    "rotated = lst[-k:] + lst[:-k]\n",
    "print(rotated)"
   ]
  },
  {
   "cell_type": "markdown",
   "id": "14931f84",
   "metadata": {},
   "source": [
    "---\n",
    "\n",
    "## Problem 16 — Merge sorted lists\n",
    "\n",
    "Given two sorted lists; return merged."
   ]
  },
  {
   "cell_type": "code",
   "execution_count": 76,
   "id": "ee0cf297",
   "metadata": {},
   "outputs": [
    {
     "name": "stdout",
     "output_type": "stream",
     "text": [
      "[1, 1, 2, 3, 4, 4, 5, 5, 38]\n"
     ]
    }
   ],
   "source": [
    "lst1 = list(map(int, input().split()))\n",
    "lst2 = list(map(int, input().split()))\n",
    "merged = sorted(lst1 + lst2)\n",
    "print(merged)"
   ]
  },
  {
   "cell_type": "markdown",
   "id": "1e38e8f7",
   "metadata": {},
   "source": [
    "---\n",
    "\n",
    "## Problem 17 — Intersection\n",
    "\n",
    "Given two lists; return intersection (unique)."
   ]
  },
  {
   "cell_type": "code",
   "execution_count": 77,
   "id": "02187d92",
   "metadata": {},
   "outputs": [
    {
     "name": "stdout",
     "output_type": "stream",
     "text": [
      "[1, 2, 3, 4, 5]\n"
     ]
    }
   ],
   "source": [
    "lst1 = list(map(int, input().split()))\n",
    "lst2 = list(map(int, input().split()))\n",
    "intersection = list(set(lst1) & set(lst2))\n",
    "print(intersection)"
   ]
  },
  {
   "cell_type": "markdown",
   "id": "fd1b3ae4",
   "metadata": {},
   "source": [
    "---\n",
    "\n",
    "## Problem 18 — Union\n",
    "\n",
    "Given two lists; return union (unique)."
   ]
  },
  {
   "cell_type": "code",
   "execution_count": 1,
   "id": "8123ddbb",
   "metadata": {},
   "outputs": [
    {
     "name": "stdout",
     "output_type": "stream",
     "text": [
      "[7]\n"
     ]
    }
   ],
   "source": [
    "lst1 = list(map(int, input().split()))\n",
    "lst2 = list(map(int, input().split()))\n",
    "union = list(set(lst1) | set(lst2))\n",
    "print(union)"
   ]
  },
  {
   "cell_type": "markdown",
   "id": "43aae8f3",
   "metadata": {},
   "source": [
    "---\n",
    "\n",
    "## Problem 19 — Swap pair\n",
    "\n",
    "Given a pair; swap using tuple unpacking."
   ]
  },
  {
   "cell_type": "code",
   "execution_count": 83,
   "id": "4ad16236",
   "metadata": {},
   "outputs": [
    {
     "name": "stdout",
     "output_type": "stream",
     "text": [
      "2 1\n"
     ]
    }
   ],
   "source": [
    "a, b = map(int, input().split())\n",
    "a, b = b, a\n",
    "print(a, b)"
   ]
  },
  {
   "cell_type": "markdown",
   "id": "9353214a",
   "metadata": {},
   "source": [
    "---\n",
    "\n",
    "## Problem 20 — Word frequency\n",
    "\n",
    "Given a sentence; print word->count."
   ]
  },
  {
   "cell_type": "code",
   "execution_count": 85,
   "id": "966c03e2",
   "metadata": {},
   "outputs": [
    {
     "name": "stdout",
     "output_type": "stream",
     "text": [
      "Hello->2\n",
      "World->1\n"
     ]
    }
   ],
   "source": [
    "sentence = input().split()\n",
    "freq = {}\n",
    "for word in sentence:\n",
    "    freq[word] = freq.get(word, 0) + 1\n",
    "for word, count in freq.items():\n",
    "    print(f\"{word}->{count}\")"
   ]
  },
  {
   "cell_type": "markdown",
   "id": "12e01338",
   "metadata": {},
   "source": [
    "---\n",
    "\n",
    "## Problem 21 — Substring count\n",
    "\n",
    "Given text and pattern; count occurrences. (overlap ok)"
   ]
  },
  {
   "cell_type": "code",
   "execution_count": 91,
   "id": "7d0c32ea",
   "metadata": {},
   "outputs": [
    {
     "name": "stdout",
     "output_type": "stream",
     "text": [
      "1\n"
     ]
    }
   ],
   "source": [
    "text = input()\n",
    "pattern = input()\n",
    "count = 0\n",
    "for i in range(len(text) - len(pattern) + 1):\n",
    "    if text[i:i+len(pattern)] == pattern:\n",
    "        count += 1\n",
    "print(count)"
   ]
  },
  {
   "cell_type": "markdown",
   "id": "03955d44",
   "metadata": {},
   "source": [
    "---\n",
    "\n",
    "## Problem 22 — Title case\n",
    "\n",
    "Given a sentence; return it title-cased."
   ]
  },
  {
   "cell_type": "code",
   "execution_count": 94,
   "id": "af05eb18",
   "metadata": {},
   "outputs": [
    {
     "name": "stdout",
     "output_type": "stream",
     "text": [
      "Hii Everyone\n"
     ]
    }
   ],
   "source": [
    "sentence = input()\n",
    "print(sentence.title())"
   ]
  },
  {
   "cell_type": "markdown",
   "id": "4b5c2178",
   "metadata": {},
   "source": [
    "---\n",
    "\n",
    "## Problem 23 — Swap variables\n",
    "\n",
    "Given a and b; swap without temp."
   ]
  },
  {
   "cell_type": "code",
   "execution_count": 97,
   "id": "75c59f50",
   "metadata": {},
   "outputs": [
    {
     "name": "stdout",
     "output_type": "stream",
     "text": [
      "10 5\n"
     ]
    }
   ],
   "source": [
    "a, b = map(int, input().split())\n",
    "a = a + b\n",
    "b = a - b\n",
    "a = a - b\n",
    "print(a, b)"
   ]
  },
  {
   "cell_type": "markdown",
   "id": "5e674442",
   "metadata": {},
   "source": [
    "---\n",
    "\n",
    "## Problem 24 — Armstrong check\n",
    "\n",
    "Given 3-digit n; check Armstrong."
   ]
  },
  {
   "cell_type": "code",
   "execution_count": 98,
   "id": "5033ca02",
   "metadata": {},
   "outputs": [
    {
     "name": "stdout",
     "output_type": "stream",
     "text": [
      "Yes\n"
     ]
    }
   ],
   "source": [
    "n = int(input())\n",
    "sum_cubes = sum(int(digit)**3 for digit in str(n))\n",
    "if sum_cubes == n:\n",
    "    print(\"Yes\")\n",
    "else:\n",
    "    print(\"No\")"
   ]
  },
  {
   "cell_type": "markdown",
   "id": "d8b802e1",
   "metadata": {},
   "source": [
    "---\n",
    "\n",
    "## Problem 25 — GCD\n",
    "\n",
    "Given a and b; print gcd."
   ]
  },
  {
   "cell_type": "code",
   "execution_count": 101,
   "id": "84f96da2",
   "metadata": {},
   "outputs": [
    {
     "name": "stdout",
     "output_type": "stream",
     "text": [
      "10\n"
     ]
    }
   ],
   "source": [
    "a, b = map(int, input().split())\n",
    "\n",
    "while b:\n",
    "    a, b = b, a % b\n",
    "\n",
    "print(a)"
   ]
  },
  {
   "cell_type": "markdown",
   "id": "080f8f17",
   "metadata": {},
   "source": [
    "---\n",
    "\n",
    "## Problem 26 — LCM\n",
    "\n",
    "Given a and b; print lcm."
   ]
  },
  {
   "cell_type": "code",
   "execution_count": 102,
   "id": "141cb87e",
   "metadata": {},
   "outputs": [
    {
     "name": "stdout",
     "output_type": "stream",
     "text": [
      "60\n"
     ]
    }
   ],
   "source": [
    "a, b = map(int, input().split())\n",
    "\n",
    "# Calculate GCD first\n",
    "x, y = a, b\n",
    "while y:\n",
    "    x, y = y, x % y\n",
    "gcd = x\n",
    "\n",
    "lcm = (a * b) // gcd\n",
    "print(lcm)"
   ]
  },
  {
   "cell_type": "markdown",
   "id": "072d2ca0",
   "metadata": {},
   "source": [
    "---\n",
    "\n",
    "## Problem 27 — Binary to decimal\n",
    "\n",
    "Given binary string; print decimal."
   ]
  },
  {
   "cell_type": "code",
   "execution_count": 106,
   "id": "46c7140a",
   "metadata": {},
   "outputs": [
    {
     "name": "stdout",
     "output_type": "stream",
     "text": [
      "10\n"
     ]
    }
   ],
   "source": [
    "binary = input()\n",
    "decimal = int(binary, 2)\n",
    "print(decimal)"
   ]
  },
  {
   "cell_type": "markdown",
   "id": "34110d35",
   "metadata": {},
   "source": [
    "---\n",
    "\n",
    "## Problem 28 — Decimal to binary\n",
    "\n",
    "Given integer; print binary string."
   ]
  },
  {
   "cell_type": "code",
   "execution_count": 107,
   "id": "e54c5b9d",
   "metadata": {},
   "outputs": [
    {
     "name": "stdout",
     "output_type": "stream",
     "text": [
      "1010\n"
     ]
    }
   ],
   "source": [
    "n = int(input())\n",
    "print(bin(n)[2:])"
   ]
  },
  {
   "cell_type": "markdown",
   "id": "45d458e7",
   "metadata": {},
   "source": [
    "---\n",
    "\n",
    "## Problem 30 — Valid parentheses\n",
    "\n",
    "Given parentheses string; check validity."
   ]
  },
  {
   "cell_type": "code",
   "execution_count": 108,
   "id": "7d1479e8",
   "metadata": {},
   "outputs": [
    {
     "name": "stdout",
     "output_type": "stream",
     "text": [
      "Yes\n"
     ]
    }
   ],
   "source": [
    "s = input()\n",
    "stack = []\n",
    "valid = True\n",
    "\n",
    "for ch in s:\n",
    "    if ch == '(':\n",
    "        stack.append(ch)\n",
    "    elif ch == ')':\n",
    "        if stack:\n",
    "            stack.pop()\n",
    "        else:\n",
    "            valid = False\n",
    "            break\n",
    "\n",
    "if valid and not stack:\n",
    "    print(\"Yes\")\n",
    "else:\n",
    "    print(\"No\")"
   ]
  },
  {
   "cell_type": "markdown",
   "id": "76ef11cb",
   "metadata": {},
   "source": [
    "---\n",
    "\n",
    "## Problem 31 — Second largest\n",
    "\n",
    "Given list; print second largest unique."
   ]
  },
  {
   "cell_type": "code",
   "execution_count": 109,
   "id": "3d689b06",
   "metadata": {},
   "outputs": [
    {
     "name": "stdout",
     "output_type": "stream",
     "text": [
      "6\n"
     ]
    }
   ],
   "source": [
    "lst = list(map(int, input().split()))\n",
    "unique = list(set(lst))\n",
    "if len(unique) < 2:\n",
    "    print(\"No second largest\")\n",
    "else:\n",
    "    unique.sort()\n",
    "    print(unique[-2])"
   ]
  },
  {
   "cell_type": "markdown",
   "id": "9ed0c9b9",
   "metadata": {},
   "source": [
    "---\n",
    "\n",
    "## Problem 32 — Transpose matrix\n",
    "\n",
    "Given matrix; return transpose."
   ]
  },
  {
   "cell_type": "code",
   "execution_count": 111,
   "id": "5d6fea31",
   "metadata": {},
   "outputs": [
    {
     "name": "stdout",
     "output_type": "stream",
     "text": [
      "3 5\n",
      "4 6\n",
      "5 7\n"
     ]
    }
   ],
   "source": [
    "rows = int(input())\n",
    "cols = int(input())\n",
    "matrix = [list(map(int, input().split())) for _ in range(rows)]\n",
    "transpose = [[matrix[i][j] for i in range(rows)] for j in range(cols)]\n",
    "for row in transpose:\n",
    "    print(*row)"
   ]
  },
  {
   "cell_type": "markdown",
   "id": "da189399",
   "metadata": {},
   "source": [
    "---\n",
    "\n",
    "## Problem 33 — Bubble sort\n",
    "\n",
    "Given list; return bubble-sorted list."
   ]
  },
  {
   "cell_type": "code",
   "execution_count": 112,
   "id": "498ad518",
   "metadata": {},
   "outputs": [
    {
     "name": "stdout",
     "output_type": "stream",
     "text": [
      "[2, 3, 4, 5, 9]\n"
     ]
    }
   ],
   "source": [
    "lst = list(map(int, input().split()))\n",
    "n = len(lst)\n",
    "\n",
    "for i in range(n):\n",
    "    for j in range(0, n-i-1):\n",
    "        if lst[j] > lst[j+1]:\n",
    "            lst[j], lst[j+1] = lst[j+1], lst[j]\n",
    "\n",
    "print(lst)"
   ]
  },
  {
   "cell_type": "markdown",
   "id": "feac317e",
   "metadata": {},
   "source": [
    "---\n",
    "\n",
    "## Problem 34 — Find missing\n",
    "\n",
    "Given list of 1..N with one missing; find it."
   ]
  },
  {
   "cell_type": "code",
   "execution_count": 117,
   "id": "6b85e1fd",
   "metadata": {},
   "outputs": [
    {
     "name": "stdout",
     "output_type": "stream",
     "text": [
      "6\n"
     ]
    }
   ],
   "source": [
    "lst = list(map(int, input().split()))\n",
    "n = len(lst) + 1\n",
    "total = n * (n + 1) // 2\n",
    "print(total - sum(lst))"
   ]
  },
  {
   "cell_type": "markdown",
   "id": "0c701422",
   "metadata": {},
   "source": [
    "---\n",
    "\n",
    "## Problem 35 — Power function\n",
    "\n",
    "Given a and b; compute a^b efficiently."
   ]
  },
  {
   "cell_type": "code",
   "execution_count": 122,
   "id": "416faa94",
   "metadata": {},
   "outputs": [
    {
     "name": "stdout",
     "output_type": "stream",
     "text": [
      "16\n"
     ]
    }
   ],
   "source": [
    "a, b = map(int, input().split())\n",
    "\n",
    "def power(a, b):\n",
    "    result = 1\n",
    "    while b > 0:\n",
    "        if b % 2 == 1:\n",
    "            result *= a\n",
    "        a *= a\n",
    "        b //= 2\n",
    "    return result\n",
    "\n",
    "print(power(a, b))"
   ]
  }
 ],
 "metadata": {
  "kernelspec": {
   "display_name": "Python 3",
   "language": "python",
   "name": "python3"
  },
  "language_info": {
   "codemirror_mode": {
    "name": "ipython",
    "version": 3
   },
   "file_extension": ".py",
   "mimetype": "text/x-python",
   "name": "python",
   "nbconvert_exporter": "python",
   "pygments_lexer": "ipython3",
   "version": "3.13.6"
  }
 },
 "nbformat": 4,
 "nbformat_minor": 5
}
