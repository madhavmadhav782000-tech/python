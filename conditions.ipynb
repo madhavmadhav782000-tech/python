{
 "cells": [
  {
   "cell_type": "code",
   "execution_count": 3,
   "id": "ec956096",
   "metadata": {},
   "outputs": [
    {
     "name": "stdout",
     "output_type": "stream",
     "text": [
      "-10 -7 -4 -1 2 5 8 "
     ]
    }
   ],
   "source": [
    "for i in range (-10,10,3):\n",
    "    print(i,end=\" \")\n"
   ]
  },
  {
   "cell_type": "code",
   "execution_count": 4,
   "id": "110248c8",
   "metadata": {},
   "outputs": [
    {
     "name": "stdout",
     "output_type": "stream",
     "text": [
      "2\n",
      "4\n",
      "6\n",
      "8\n",
      "10\n"
     ]
    }
   ],
   "source": [
    "for i in range(1,11):\n",
    "    if i %2==0:\n",
    "        print(i)\n",
    "        "
   ]
  },
  {
   "cell_type": "code",
   "execution_count": 6,
   "id": "0f723293",
   "metadata": {},
   "outputs": [
    {
     "name": "stdout",
     "output_type": "stream",
     "text": [
      "3\n",
      "6\n",
      "9\n"
     ]
    }
   ],
   "source": [
    "for i in  range(1,11):\n",
    "    if i %3==0:\n",
    "        print(i)\n"
   ]
  },
  {
   "cell_type": "code",
   "execution_count": 9,
   "id": "926e0c6a",
   "metadata": {},
   "outputs": [
    {
     "name": "stdout",
     "output_type": "stream",
     "text": [
      "odd number\n",
      "odd number\n",
      "odd number\n",
      "odd number\n",
      "144\n",
      "odd number\n"
     ]
    }
   ],
   "source": [
    "nums = [1,5,11,3,12,15]\n",
    "for i in nums:\n",
    "    if i %2 == 0:\n",
    "        s = i**2\n",
    "        print(s)\n",
    "    else:\n",
    "           print(\"odd number\")\n"
   ]
  },
  {
   "cell_type": "code",
   "execution_count": null,
   "id": "921cf7ed",
   "metadata": {},
   "outputs": [],
   "source": [
    "# display cubes of odd num \n",
    "\n",
    "\n",
    "num=[1,3,5,7]\n",
    "for i in num :\n",
    "    if i % "
   ]
  },
  {
   "cell_type": "code",
   "execution_count": 13,
   "id": "991ff262",
   "metadata": {},
   "outputs": [
    {
     "name": "stdout",
     "output_type": "stream",
     "text": [
      "the area for 3 is 28.26\n",
      "the area for 5 is 78.5\n",
      "the area for 6 is 113.04\n",
      "the area for 11 is 379.94\n",
      "the area for 10 is 314.0\n"
     ]
    }
   ],
   "source": [
    "radius = [3,5,6,11,10]\n",
    "for r in radius:\n",
    "       area=3.14*r**2\n",
    "       print(f\"the area for {r} is {area}\")\n",
    "       \n"
   ]
  },
  {
   "cell_type": "code",
   "execution_count": 25,
   "id": "d4125879",
   "metadata": {},
   "outputs": [
    {
     "name": "stdout",
     "output_type": "stream",
     "text": [
      "call of duty\n",
      "coin master\n",
      "candy crush\n",
      "candy crush saga\n",
      "cricket\n",
      "chess\n"
     ]
    }
   ],
   "source": [
    "videogames=('freefire','bgmi','call of duty','vice city','coin master','temple run','8 ball pool','candy crush','candy crush saga','cricket','chess')\n",
    "for name in videogames:\n",
    "      if name.startswith ('c'):\n",
    "         print(name)"
   ]
  },
  {
   "cell_type": "code",
   "execution_count": 1,
   "id": "302e4386",
   "metadata": {},
   "outputs": [
    {
     "name": "stdout",
     "output_type": "stream",
     "text": [
      "165\n"
     ]
    }
   ],
   "source": [
    "\n",
    "\n",
    "\n",
    "total = 0\n",
    "for num in range(10, 21):\n",
    "    total += num\n",
    "print(total)\n",
    "\n",
    "\n"
   ]
  },
  {
   "cell_type": "code",
   "execution_count": null,
   "id": "76f54b6a",
   "metadata": {},
   "outputs": [
    {
     "name": "stdout",
     "output_type": "stream",
     "text": [
      "20113277184000\n"
     ]
    }
   ],
   "source": [
    "total=4\n",
    "for num in range(10,21):\n",
    "    total*=num\n",
    "print(total)"
   ]
  },
  {
   "cell_type": "code",
   "execution_count": null,
   "id": "243c1d1f",
   "metadata": {},
   "outputs": [],
   "source": [
    "nums (5,11,2,3,10,33):\n",
    "for num in num="
   ]
  },
  {
   "cell_type": "code",
   "execution_count": 6,
   "id": "ee7488fc",
   "metadata": {},
   "outputs": [
    {
     "name": "stdout",
     "output_type": "stream",
     "text": [
      "53\n"
     ]
    }
   ],
   "source": [
    "\n",
    "nums = [5, 11, 2, 53, 10, 33]\n",
    "print(max(nums))\n"
   ]
  },
  {
   "cell_type": "code",
   "execution_count": 15,
   "id": "1cc66027",
   "metadata": {},
   "outputs": [
    {
     "name": "stdout",
     "output_type": "stream",
     "text": [
      "total count=0\n"
     ]
    }
   ],
   "source": [
    "nums=[25,26,27,28,29,30,31,32,33,34,35,36,37,38,39,40,41,42,43,44,45,46,47,48,49,50]\n",
    "count=0\n",
    "for i in nums:\n",
    "    if i%3==0:\n",
    "      count=0\n",
    "print(f\"total count={count}\")"
   ]
  },
  {
   "cell_type": "code",
   "execution_count": 13,
   "id": "eff30d11",
   "metadata": {},
   "outputs": [
    {
     "name": "stdout",
     "output_type": "stream",
     "text": [
      "count 1\n"
     ]
    }
   ],
   "source": [
    "movies=[\"jinna\",\"kannappa\",\"hari hara veera mallu\",\"pushpa\",\"bahubali\",\"RRR\",\"KGF\",\"Vikram\",\"Valimai\",\"Adipurush\",\"Jawan\",\"Pathaan\",\"Don\",\"Dhoom\",\"Dangal\"]\n",
    "movies_with_h=0\n",
    "for  movie in movies:\n",
    "    if movie.startswith (\"H\") or movie.startswith(\"h\"):\n",
    "        movies_with_h += 1\n",
    "print(\"count\",movies_with_h)"
   ]
  },
  {
   "cell_type": "code",
   "execution_count": 10,
   "id": "3478f0b1",
   "metadata": {},
   "outputs": [
    {
     "name": "stdout",
     "output_type": "stream",
     "text": [
      "Count 1\n"
     ]
    }
   ],
   "source": [
    "movies=[\"jinna\",\"kannappa\",\"hari hara veera mallu\",\"pushpa\",\"bahubali\",\"RRR\",\"KGF\",\"Vikram\",\"Valimai\",\"Adipurush\",\"Jawan\",\"Pathaan\",\"Don\",\"Dhoom\",\"Dangal\"]\n",
    "movies_with_h=0\n",
    "for movie in movies:\n",
    "    if movie.startswith (\"H\") or movie.startswith(\"h\"):\n",
    "        movies_with_h += 1\n",
    "print(\"Count\",movies_with_h)"
   ]
  },
  {
   "cell_type": "code",
   "execution_count": 14,
   "id": "e61dc472",
   "metadata": {},
   "outputs": [
    {
     "name": "stdout",
     "output_type": "stream",
     "text": [
      "i=(i),j=(j)\n",
      "i=(i),j=(j)\n",
      "i=(i),j=(j)\n",
      "i=(i),j=(j)\n",
      "i=(i),j=(j)\n",
      "i=(i),j=(j)\n",
      "i=(i),j=(j)\n",
      "i=(i),j=(j)\n",
      "i=(i),j=(j)\n",
      "i=(i),j=(j)\n",
      "i=(i),j=(j)\n",
      "i=(i),j=(j)\n",
      "i=(i),j=(j)\n",
      "i=(i),j=(j)\n",
      "i=(i),j=(j)\n",
      "i=(i),j=(j)\n",
      "i=(i),j=(j)\n",
      "i=(i),j=(j)\n",
      "i=(i),j=(j)\n",
      "i=(i),j=(j)\n",
      "i=(i),j=(j)\n",
      "i=(i),j=(j)\n",
      "i=(i),j=(j)\n",
      "i=(i),j=(j)\n",
      "i=(i),j=(j)\n",
      "i=(i),j=(j)\n",
      "i=(i),j=(j)\n",
      "i=(i),j=(j)\n",
      "i=(i),j=(j)\n",
      "i=(i),j=(j)\n",
      "i=(i),j=(j)\n",
      "i=(i),j=(j)\n",
      "i=(i),j=(j)\n",
      "i=(i),j=(j)\n",
      "i=(i),j=(j)\n",
      "i=(i),j=(j)\n",
      "i=(i),j=(j)\n",
      "i=(i),j=(j)\n",
      "i=(i),j=(j)\n",
      "i=(i),j=(j)\n",
      "i=(i),j=(j)\n",
      "i=(i),j=(j)\n",
      "i=(i),j=(j)\n",
      "i=(i),j=(j)\n",
      "i=(i),j=(j)\n",
      "i=(i),j=(j)\n",
      "i=(i),j=(j)\n",
      "i=(i),j=(j)\n",
      "i=(i),j=(j)\n",
      "i=(i),j=(j)\n"
     ]
    }
   ],
   "source": [
    "for i in range(1,11):\n",
    "    for j in range(1,6):\n",
    "        print(f\"i=(i),j=(j)\")\n"
   ]
  },
  {
   "cell_type": "code",
   "execution_count": 17,
   "id": "27ffe111",
   "metadata": {},
   "outputs": [
    {
     "name": "stdout",
     "output_type": "stream",
     "text": [
      "1 1 1 1 1 \n",
      "2 2 2 2 2 \n",
      "3 3 3 3 3 \n",
      "4 4 4 4 4 \n",
      "5 5 5 5 5 \n"
     ]
    }
   ],
   "source": [
    "n = 6\n",
    "for i in range(1, n):\n",
    "    for j in range (1, n):\n",
    "        print(i, end=' ')\n",
    "    print()  "
   ]
  },
  {
   "cell_type": "code",
   "execution_count": 1,
   "id": "e5ceabff",
   "metadata": {},
   "outputs": [
    {
     "name": "stdout",
     "output_type": "stream",
     "text": [
      "hello world\n"
     ]
    }
   ],
   "source": [
    "print(\"hello world\")"
   ]
  },
  {
   "cell_type": "code",
   "execution_count": null,
   "id": "7399a251",
   "metadata": {},
   "outputs": [],
   "source": []
  }
 ],
 "metadata": {
  "kernelspec": {
   "display_name": "Python 3",
   "language": "python",
   "name": "python3"
  },
  "language_info": {
   "codemirror_mode": {
    "name": "ipython",
    "version": 3
   },
   "file_extension": ".py",
   "mimetype": "text/x-python",
   "name": "python",
   "nbconvert_exporter": "python",
   "pygments_lexer": "ipython3",
   "version": "3.13.6"
  }
 },
 "nbformat": 4,
 "nbformat_minor": 5
}
