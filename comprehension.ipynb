{
 "cells": [
  {
   "cell_type": "code",
   "execution_count": 4,
   "id": "4620d223",
   "metadata": {},
   "outputs": [],
   "source": [
    "movies = ['pushpa','luckybaskar','nuvvunaku nachav','baby','kannapa','jinna','journay','little hearts','kalisundham raa','7G brundhavan colony','remo','court','thammudu','santhosam','orange','rx100','arjun reddy','mangalvaram']\n"
   ]
  },
  {
   "cell_type": "code",
   "execution_count": 5,
   "id": "eae281c5",
   "metadata": {},
   "outputs": [
    {
     "name": "stdout",
     "output_type": "stream",
     "text": [
      "['pushpa', 'luckybaskar', 'nuvvunaku nachav', 'baby', 'kannapa', 'jinna', 'journay', 'little hearts', 'kalisundham raa', '7G brundhavan colony', 'remo', 'court', 'thammudu', 'santhosam', 'orange', 'rx100', 'arjun reddy', 'mangalvaram']\n",
      "[6, 11, 16, 4, 7, 5, 7, 13, 15, 20, 4, 5, 8, 9, 6, 5, 11, 11]\n"
     ]
    }
   ],
   "source": [
    "movielen=[]\n",
    "for movie in movies:\n",
    "    size = len(movie)\n",
    "    movielen.append(size)\n",
    "print(movies)\n",
    "print(movielen)   "
   ]
  },
  {
   "cell_type": "code",
   "execution_count": 6,
   "id": "2d396134",
   "metadata": {},
   "outputs": [
    {
     "name": "stdout",
     "output_type": "stream",
     "text": [
      "['pushpa', 'luckybaskar', 'nuvvunaku nachav', 'baby', 'kannapa', 'jinna', 'journay', 'little hearts', 'kalisundham raa', '7G brundhavan colony', 'remo', 'court', 'thammudu', 'santhosam', 'orange', 'rx100', 'arjun reddy', 'mangalvaram']\n",
      "[6, 11, 16, 4, 7, 5, 7, 13, 15, 20, 4, 5, 8, 9, 6, 5, 11, 11]\n"
     ]
    }
   ],
   "source": [
    "movielen = [len(movie) for movie in movies]\n",
    "print(movies)\n",
    "print(movielen)\n"
   ]
  },
  {
   "cell_type": "code",
   "execution_count": 7,
   "id": "687cbe1f",
   "metadata": {},
   "outputs": [
    {
     "name": "stdout",
     "output_type": "stream",
     "text": [
      "['pushpa', 'luckybaskar', 'nuvvunaku nachav', 'baby', 'kannapa', 'jinna', 'journay', 'little hearts', 'kalisundham raa', '7G brundhavan colony', 'remo', 'court', 'thammudu', 'santhosam', 'orange', 'rx100', 'arjun reddy', 'mangalvaram']\n",
      "['PUSHPA', 'LUCKYBASKAR', 'NUVVUNAKU NACHAV', 'BABY', 'KANNAPA', 'JINNA', 'JOURNAY', 'LITTLE HEARTS', 'KALISUNDHAM RAA', '7G BRUNDHAVAN COLONY', 'REMO', 'COURT', 'THAMMUDU', 'SANTHOSAM', 'ORANGE', 'RX100', 'ARJUN REDDY', 'MANGALVARAM']\n"
     ]
    }
   ],
   "source": [
    " \n",
    "movies_caps = []\n",
    "for movie in movies:\n",
    "    name = movie.upper()\n",
    "    movies_caps.append(name)\n",
    "print(movies)\n",
    "print(movies_caps)    \n",
    "\n"
   ]
  },
  {
   "cell_type": "code",
   "execution_count": 8,
   "id": "148b4387",
   "metadata": {},
   "outputs": [
    {
     "name": "stdout",
     "output_type": "stream",
     "text": [
      "['pushpa', 'luckybaskar', 'nuvvunaku nachav', 'baby', 'kannapa', 'jinna', 'journay', 'little hearts', 'kalisundham raa', '7G brundhavan colony', 'remo', 'court', 'thammudu', 'santhosam', 'orange', 'rx100', 'arjun reddy', 'mangalvaram']\n",
      "['PUSHPA', 'LUCKYBASKAR', 'NUVVUNAKU NACHAV', 'BABY', 'KANNAPA', 'JINNA', 'JOURNAY', 'LITTLE HEARTS', 'KALISUNDHAM RAA', '7G BRUNDHAVAN COLONY', 'REMO', 'COURT', 'THAMMUDU', 'SANTHOSAM', 'ORANGE', 'RX100', 'ARJUN REDDY', 'MANGALVARAM']\n"
     ]
    }
   ],
   "source": [
    "movies_caps = [movie.upper() for movie in movies]\n",
    "print (movies)\n",
    "print(movies_caps)"
   ]
  },
  {
   "cell_type": "code",
   "execution_count": 10,
   "id": "3bd140fd",
   "metadata": {},
   "outputs": [
    {
     "name": "stdout",
     "output_type": "stream",
     "text": [
      "['pushpa', 'luckybaskar', 'nuvvunaku nachav', 'baby', 'kannapa', 'jinna', 'journay', 'little hearts', 'kalisundham raa', '7G brundhavan colony', 'remo', 'court', 'thammudu', 'santhosam', 'orange', 'rx100', 'arjun reddy', 'mangalvaram']\n",
      "['journay', '7G brundhavan colony', 'remo', 'court', 'santhosam', 'orange']\n"
     ]
    }
   ],
   "source": [
    "movies_with_o = []\n",
    "for item in movies:\n",
    "    if 'o' in item or 'o' in item:\n",
    "        movies_with_o.append(item)\n",
    "print(movies)\n",
    "print(movies_with_o)"
   ]
  },
  {
   "cell_type": "code",
   "execution_count": 11,
   "id": "b2e63598",
   "metadata": {},
   "outputs": [],
   "source": [
    "movies_with_e = [nm for nm in movies if 'o' in nm or 'o' in nm]"
   ]
  },
  {
   "cell_type": "code",
   "execution_count": null,
   "id": "dcc9f57d",
   "metadata": {},
   "outputs": [],
   "source": []
  }
 ],
 "metadata": {
  "kernelspec": {
   "display_name": "Python 3",
   "language": "python",
   "name": "python3"
  },
  "language_info": {
   "codemirror_mode": {
    "name": "ipython",
    "version": 3
   },
   "file_extension": ".py",
   "mimetype": "text/x-python",
   "name": "python",
   "nbconvert_exporter": "python",
   "pygments_lexer": "ipython3",
   "version": "3.13.6"
  }
 },
 "nbformat": 4,
 "nbformat_minor": 5
}
