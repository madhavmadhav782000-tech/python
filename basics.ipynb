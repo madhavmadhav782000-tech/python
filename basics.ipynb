{
 "cells": [
  {
   "cell_type": "markdown",
   "id": "3c568a51",
   "metadata": {},
   "source": [
    "# operators\n",
    "- assignment operators\n",
    "- arthematic operators\n",
    "- compariion operators\n",
    "- logical operators\n",
    "- bitwise operators\n",
    "- "
   ]
  },
  {
   "cell_type": "markdown",
   "id": "9750597a",
   "metadata": {},
   "source": []
  },
  {
   "cell_type": "code",
   "execution_count": 4,
   "id": "18b9bbbd",
   "metadata": {},
   "outputs": [],
   "source": [
    "x = 1000 # assignment\n",
    "x = 500 # assignment\n",
    "x = 5"
   ]
  },
  {
   "cell_type": "code",
   "execution_count": 5,
   "id": "cb688a6c",
   "metadata": {},
   "outputs": [
    {
     "ename": "SyntaxError",
     "evalue": "invalid syntax (1740781815.py, line 2)",
     "output_type": "error",
     "traceback": [
      "  \u001b[36mCell\u001b[39m\u001b[36m \u001b[39m\u001b[32mIn[5]\u001b[39m\u001b[32m, line 2\u001b[39m\n\u001b[31m    \u001b[39m\u001b[31m- add  +\u001b[39m\n            ^\n\u001b[31mSyntaxError\u001b[39m\u001b[31m:\u001b[39m invalid syntax\n"
     ]
    }
   ],
   "source": [
    "# arthematic operator\n",
    "- add  +\n",
    "- sub  - \n",
    "- mul  *\n",
    "- div  /\n",
    "- int div //\n",
    "- exp *\n",
    "- mod  %"
   ]
  },
  {
   "cell_type": "code",
   "execution_count": null,
   "id": "f8570668",
   "metadata": {},
   "outputs": [],
   "source": [
    "M = 8\n",
    "N = 9\n",
    "C=8/9"
   ]
  },
  {
   "cell_type": "code",
   "execution_count": null,
   "id": "1168f5c1",
   "metadata": {},
   "outputs": [
    {
     "data": {
      "text/plain": [
       "27.0"
      ]
     },
     "execution_count": 8,
     "metadata": {},
     "output_type": "execute_result"
    }
   ],
   "source": [
    "2 + 10 / 2 * 5\n",
    "# 2 + 5.0 * 5 step 1\n",
    "# 2 + 25.0    step 2\n",
    "# 27.0        step 3"
   ]
  },
  {
   "cell_type": "code",
   "execution_count": null,
   "id": "f2dab42c",
   "metadata": {},
   "outputs": [
    {
     "data": {
      "text/plain": [
       "5.0"
      ]
     },
     "execution_count": 9,
     "metadata": {},
     "output_type": "execute_result"
    }
   ],
   "source": [
    "per = 3\n",
    "base = 4\n",
    "hyp = (per**2 + base**2)**.5  # math.sqrt(per**2)will also work\n",
    "hyp"
   ]
  },
  {
   "cell_type": "code",
   "execution_count": null,
   "id": "da8d0679",
   "metadata": {},
   "outputs": [
    {
     "data": {
      "text/plain": [
       "48"
      ]
     },
     "execution_count": 10,
     "metadata": {},
     "output_type": "execute_result"
    }
   ],
   "source": [
    "x=10\n",
    "res=3*x+2*(x-1)\n",
    "res"
   ]
  },
  {
   "cell_type": "code",
   "execution_count": null,
   "id": "0590e346",
   "metadata": {},
   "outputs": [
    {
     "data": {
      "text/plain": [
       "3.875"
      ]
     },
     "execution_count": 11,
     "metadata": {},
     "output_type": "execute_result"
    }
   ],
   "source": [
    "sum = 2+4+5+6+1+2+5+6\n",
    "count = 8\n",
    "res = 31/8\n",
    "res"
   ]
  },
  {
   "cell_type": "code",
   "execution_count": null,
   "id": "0e4e5388",
   "metadata": {},
   "outputs": [
    {
     "data": {
      "text/plain": [
       "13"
      ]
     },
     "execution_count": 12,
     "metadata": {},
     "output_type": "execute_result"
    }
   ],
   "source": [
    "a = 10\n",
    "b = 3\n",
    "a + b"
   ]
  },
  {
   "cell_type": "code",
   "execution_count": null,
   "id": "21260656",
   "metadata": {},
   "outputs": [
    {
     "data": {
      "text/plain": [
       "1000"
      ]
     },
     "execution_count": 13,
     "metadata": {},
     "output_type": "execute_result"
    }
   ],
   "source": [
    "a ** b # 10 power of 3 / exponentiation\n",
    "\n"
   ]
  },
  {
   "cell_type": "code",
   "execution_count": null,
   "id": "ff89cc34",
   "metadata": {},
   "outputs": [],
   "source": [
    "# comparition operators"
   ]
  },
  {
   "cell_type": "code",
   "execution_count": 6,
   "id": "e167df02",
   "metadata": {},
   "outputs": [],
   "source": [
    "x = 12\n",
    "y = 23"
   ]
  },
  {
   "cell_type": "code",
   "execution_count": 7,
   "id": "c236ec57",
   "metadata": {},
   "outputs": [],
   "source": [
    "x,y = 13, 24\n",
    "a,b,c = 2,4,120"
   ]
  },
  {
   "cell_type": "code",
   "execution_count": 8,
   "id": "2c89c6e9",
   "metadata": {},
   "outputs": [
    {
     "data": {
      "text/plain": [
       "False"
      ]
     },
     "execution_count": 8,
     "metadata": {},
     "output_type": "execute_result"
    }
   ],
   "source": [
    "x>y#if x is greater y ->false"
   ]
  },
  {
   "cell_type": "code",
   "execution_count": 9,
   "id": "7052d68d",
   "metadata": {},
   "outputs": [
    {
     "data": {
      "text/plain": [
       "False"
      ]
     },
     "execution_count": 9,
     "metadata": {},
     "output_type": "execute_result"
    }
   ],
   "source": [
    "x > 15 < y"
   ]
  },
  {
   "cell_type": "code",
   "execution_count": 10,
   "id": "16134259",
   "metadata": {},
   "outputs": [
    {
     "data": {
      "text/plain": [
       "True"
      ]
     },
     "execution_count": 10,
     "metadata": {},
     "output_type": "execute_result"
    }
   ],
   "source": [
    "x = 100\n",
    "1 <= x <= 100"
   ]
  },
  {
   "cell_type": "code",
   "execution_count": null,
   "id": "54179bf8",
   "metadata": {},
   "outputs": [],
   "source": [
    "### LOGICAL OPERATORS\n",
    "    AND OR NOT"
   ]
  },
  {
   "cell_type": "code",
   "execution_count": 11,
   "id": "70d17dd3",
   "metadata": {},
   "outputs": [
    {
     "ename": "NameError",
     "evalue": "name 'X' is not defined",
     "output_type": "error",
     "traceback": [
      "\u001b[31m---------------------------------------------------------------------------\u001b[39m",
      "\u001b[31mNameError\u001b[39m                                 Traceback (most recent call last)",
      "\u001b[36mCell\u001b[39m\u001b[36m \u001b[39m\u001b[32mIn[11]\u001b[39m\u001b[32m, line 1\u001b[39m\n\u001b[32m----> \u001b[39m\u001b[32m1\u001b[39m \u001b[43mX\u001b[49m > Y \u001b[38;5;129;01mand\u001b[39;00m x > a \u001b[38;5;66;03m# and is used to evaluate if both expressions is true\u001b[39;00m\n",
      "\u001b[31mNameError\u001b[39m: name 'X' is not defined"
     ]
    }
   ],
   "source": [
    "X > Y and x > a # and is used to evaluate if both expressions is true"
   ]
  },
  {
   "cell_type": "code",
   "execution_count": 13,
   "id": "5249a9b6",
   "metadata": {},
   "outputs": [
    {
     "data": {
      "text/plain": [
       "False"
      ]
     },
     "execution_count": 13,
     "metadata": {},
     "output_type": "execute_result"
    }
   ],
   "source": [
    "not a # covert true value to false and vice versa"
   ]
  },
  {
   "cell_type": "code",
   "execution_count": 12,
   "id": "1ac25da1",
   "metadata": {},
   "outputs": [
    {
     "data": {
      "text/plain": [
       "True"
      ]
     },
     "execution_count": 12,
     "metadata": {},
     "output_type": "execute_result"
    }
   ],
   "source": [
    "not (a == 10) # invert the result"
   ]
  },
  {
   "cell_type": "code",
   "execution_count": null,
   "id": "bfce3793",
   "metadata": {},
   "outputs": [],
   "source": []
  }
 ],
 "metadata": {
  "kernelspec": {
   "display_name": "Python 3",
   "language": "python",
   "name": "python3"
  },
  "language_info": {
   "codemirror_mode": {
    "name": "ipython",
    "version": 3
   },
   "file_extension": ".py",
   "mimetype": "text/x-python",
   "name": "python",
   "nbconvert_exporter": "python",
   "pygments_lexer": "ipython3",
   "version": "3.13.6"
  }
 },
 "nbformat": 4,
 "nbformat_minor": 5
}
