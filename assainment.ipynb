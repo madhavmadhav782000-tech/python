{
 "cells": [
  {
   "cell_type": "markdown",
   "id": "cce93bb4",
   "metadata": {},
   "source": [
    "\n",
    "1. Swapping Variables\n",
    "\n",
    "# Write a Python program to swap the values of two variables entered by the user.\n",
    "\n",
    "# Hint: Use a temporary variable or Python’s tuple unpacking to swap values."
   ]
  },
  {
   "cell_type": "code",
   "execution_count": null,
   "id": "33e0f829",
   "metadata": {},
   "outputs": [
    {
     "name": "stdout",
     "output_type": "stream",
     "text": [
      "Before swapping: a = 22 b = 100\n",
      "After swapping: a = 100 b = 22\n"
     ]
    }
   ],
   "source": [
    "\n",
    "a = int(input(\"Enter first number: \"))\n",
    "b = int(input(\"Enter second number: \"))\n",
    "\n",
    "print(\"Before swapping: a =\", a, \"b =\", b)\n",
    "\n",
    "\n",
    "temp = a\n",
    "a = b\n",
    "b = temp\n",
    "\n",
    "print(\"After swapping: a =\", a, \"b =\", b)"
   ]
  },
  {
   "cell_type": "markdown",
   "id": "2813d447",
   "metadata": {},
   "source": [
    "2. Simple Calculator (No Conditions)\n",
    "\n",
    "# Create a program that takes two numbers and an operator (+, -, *, /) as input from the user and prints the result.\n",
    "\n",
    "# Hint: Use eval() or separate conditions for operators, but since no conditions allowed, use eval() with the expression."
   ]
  },
  {
   "cell_type": "code",
   "execution_count": 2,
   "id": "3ce7d53f",
   "metadata": {},
   "outputs": [
    {
     "name": "stdout",
     "output_type": "stream",
     "text": [
      "Result: 3040\n"
     ]
    }
   ],
   "source": [
    "num1 = input(\"Enter first number: \")\n",
    "op = input(\"Enter operator (+, -, *, /): \")\n",
    "num2 = input(\"Enter second number: \")\n",
    "\n",
    "expression = num1 + op + num2\n",
    "result = eval(expression)\n",
    "print(\"Result:\", result)"
   ]
  },
  {
   "cell_type": "markdown",
   "id": "504f09ad",
   "metadata": {},
   "source": [
    "3. Type Conversion\n",
    "\n",
    "# Ask the user to input a number as a string. Convert it to an integer and a float, then print both values and their types.\n",
    "\n",
    "# Hint: Use int(), float(), and type() to show the types."
   ]
  },
  {
   "cell_type": "code",
   "execution_count": 3,
   "id": "2d902493",
   "metadata": {},
   "outputs": [
    {
     "name": "stdout",
     "output_type": "stream",
     "text": [
      "7 <class 'int'>\n",
      "7.0 <class 'float'>\n"
     ]
    }
   ],
   "source": [
    "num_str = input(\"Enter a number: \")\n",
    "\n",
    "num_int = int(num_str)\n",
    "num_float = float(num_str)\n",
    "\n",
    "print(num_int, type(num_int))\n",
    "print(num_float, type(num_float))"
   ]
  },
  {
   "cell_type": "markdown",
   "id": "d64b4dea",
   "metadata": {},
   "source": [
    "4. Quadratic Equation Roots (No Conditions)\n",
    "\n",
    "# Write a program that takes three numbers as input: a, b, and c for the equation ax^2 + bx + c = 0. Calculate the roots using the formula.\n",
    "\n",
    "# Hint: Use ** for power and complex() if you get a negative square root. Do not use any modules or conditions."
   ]
  },
  {
   "cell_type": "code",
   "execution_count": 4,
   "id": "0a76f72e",
   "metadata": {},
   "outputs": [
    {
     "name": "stdout",
     "output_type": "stream",
     "text": [
      "Root 1: (-0.47297297297297297+0.6722888088558243j)\n",
      "Root 2: (-0.47297297297297297-0.6722888088558243j)\n"
     ]
    }
   ],
   "source": [
    "a = float(input(\"Enter a: \"))\n",
    "b = float(input(\"Enter b: \"))\n",
    "c = float(input(\"Enter c: \"))\n",
    "\n",
    "d = b**2 - 4*a*c\n",
    "root1 = (-b + complex(d)**0.5) / (2*a)\n",
    "root2 = (-b - complex(d)**0.5) / (2*a)\n",
    "\n",
    "print(\"Root 1:\", root1)\n",
    "print(\"Root 2:\", root2)"
   ]
  },
  {
   "cell_type": "markdown",
   "id": "10d3c8ad",
   "metadata": {},
   "source": [
    "5. Custom Data Type Formatter\n",
    "\n",
    "# Take input of a person’s name, age, and height (in cm). Print a formatted string: “Name: <name>, Age: <age> years, Height: <height> cm”. Also, make sure age is an integer and height is a float.\n",
    "\n",
    "# Hint: Use input(), int(), float(), and f-strings for formatting."
   ]
  },
  {
   "cell_type": "code",
   "execution_count": 7,
   "id": "de096515",
   "metadata": {},
   "outputs": [
    {
     "name": "stdout",
     "output_type": "stream",
     "text": [
      "Name: madhav, Age: 27 years, Height: 5.78 feet\n"
     ]
    }
   ],
   "source": [
    "name = input(\"Enter name: \")\n",
    "age = int(input(\"Enter age: \"))\n",
    "height = float(input(\"Enter height in feet: \"))\n",
    "\n",
    "print(f\"Name: {name}, Age: {age} years, Height: {height} feet\")"
   ]
  },
  {
   "cell_type": "markdown",
   "id": "84ccc734",
   "metadata": {},
   "source": [
    "6. Complex Expression Evaluator\n",
    "\n",
    "# Write a program that takes three numbers from the user and calculates the result of the expression: ((num1 + num2) * num3) / (num1 - num2). Print the result rounded to 2 decimal places.\n",
    "\n",
    "# Hint: Use parentheses for the calculation and round() for formatting. If you get an error (like dividing by zero), Python will show it."
   ]
  },
  {
   "cell_type": "code",
   "execution_count": 8,
   "id": "7843ef8a",
   "metadata": {},
   "outputs": [
    {
     "name": "stdout",
     "output_type": "stream",
     "text": [
      "Result: 6.0\n"
     ]
    }
   ],
   "source": [
    "num1 = float(input(\"Enter first number: \"))\n",
    "num2 = float(input(\"Enter second number: \"))\n",
    "num3 = float(input(\"Enter third number: \"))\n",
    "\n",
    "result = ((num1 + num2) * num3) / (num1 - num2)\n",
    "print(\"Result:\", round(result, 2))"
   ]
  },
  {
   "cell_type": "markdown",
   "id": "37e11438",
   "metadata": {},
   "source": [
    "7. Sum of Two Numbers\n",
    "\n",
    "# Write a program to take two numbers as input and print their sum.\n",
    "\n",
    "# Hint: Use the + operator to add the numbers."
   ]
  },
  {
   "cell_type": "code",
   "execution_count": 9,
   "id": "b428ea94",
   "metadata": {},
   "outputs": [
    {
     "name": "stdout",
     "output_type": "stream",
     "text": [
      "Sum: 9.0\n"
     ]
    }
   ],
   "source": [
    "num1 = float(input(\"Enter first number: \"))\n",
    "num2 = float(input(\"Enter second number: \"))\n",
    "\n",
    "sum_result = num1 + num2\n",
    "print(\"Sum:\", sum_result)"
   ]
  },
  {
   "cell_type": "markdown",
   "id": "2e215b06",
   "metadata": {},
   "source": [
    "8. Uppercase String\n",
    "\n",
    "# Take a string as input and print it in uppercase.\n",
    "\n",
    "# Hint: Use the .upper() method on the string."
   ]
  },
  {
   "cell_type": "code",
   "execution_count": 10,
   "id": "70aa5784",
   "metadata": {},
   "outputs": [
    {
     "name": "stdout",
     "output_type": "stream",
     "text": [
      "Uppercase: M\n"
     ]
    }
   ],
   "source": [
    "text = input(\"Enter a string: \")\n",
    "print(\"Uppercase:\", text.upper())"
   ]
  },
  {
   "cell_type": "markdown",
   "id": "128a715a",
   "metadata": {},
   "source": [
    "9. Square of a Number\n",
    "\n",
    "# Input a number and print its square.\n",
    "\n",
    "# Hint: Use the ** operator with exponent 2 or multiply the number by itself."
   ]
  },
  {
   "cell_type": "code",
   "execution_count": 11,
   "id": "9f4d336b",
   "metadata": {},
   "outputs": [
    {
     "name": "stdout",
     "output_type": "stream",
     "text": [
      "Square: 49.0\n"
     ]
    }
   ],
   "source": [
    "num = float(input(\"Enter a number: \"))\n",
    "square = num ** 2\n",
    "print(\"Square:\", square)"
   ]
  },
  {
   "cell_type": "markdown",
   "id": "b6837449",
   "metadata": {},
   "source": [
    "10. Greeting Message Take a name as input and print “Hello,<name>"
   ]
  },
  {
   "cell_type": "code",
   "execution_count": 12,
   "id": "809b65d9",
   "metadata": {},
   "outputs": [
    {
     "name": "stdout",
     "output_type": "stream",
     "text": [
      "Hello, madhav\n"
     ]
    }
   ],
   "source": [
    "name = input(\"Enter your name: \")\n",
    "print(\"Hello,\", name)"
   ]
  },
  {
   "cell_type": "markdown",
   "id": "bd6a4afd",
   "metadata": {},
   "source": [
    "11. String Concatenation\n",
    "\n",
    "# Input two strings and print them concatenated together.\n",
    "\n",
    "# Hint: Use the + operator to join the strings."
   ]
  },
  {
   "cell_type": "code",
   "execution_count": 13,
   "id": "6682a672",
   "metadata": {},
   "outputs": [
    {
     "name": "stdout",
     "output_type": "stream",
     "text": [
      "Concatenated String: madhavmadhav\n"
     ]
    }
   ],
   "source": [
    "str1 = input(\"Enter first string: \")\n",
    "str2 = input(\"Enter second string: \")\n",
    "\n",
    "result = str1 + str2\n",
    "print(\"Concatenated String:\", result)"
   ]
  },
  {
   "cell_type": "markdown",
   "id": "3cdd2212",
   "metadata": {},
   "source": [
    "12. Float to Integer Conversion\n",
    "\n",
    "# Take a float as input and print its integer equivalent using int().\n",
    "\n",
    "# Hint: Use int() to convert the float to an integer, which truncates the decimal part."
   ]
  },
  {
   "cell_type": "code",
   "execution_count": 14,
   "id": "26433958",
   "metadata": {},
   "outputs": [
    {
     "name": "stdout",
     "output_type": "stream",
     "text": [
      "Integer equivalent: 4\n"
     ]
    }
   ],
   "source": [
    "num = float(input(\"Enter a float number: \"))\n",
    "print(\"Integer equivalent:\", int(num))"
   ]
  },
  {
   "cell_type": "markdown",
   "id": "981d1bab",
   "metadata": {},
   "source": [
    "13. Age Display\n",
    "\n",
    "# Input an age as a number and print “You are <age> years old”.\n",
    "\n",
    "# Hint: Convert the input to int if needed and use f-string for formatting."
   ]
  },
  {
   "cell_type": "code",
   "execution_count": 15,
   "id": "c4427613",
   "metadata": {},
   "outputs": [
    {
     "name": "stdout",
     "output_type": "stream",
     "text": [
      "You are 27 years old\n"
     ]
    }
   ],
   "source": [
    "age = int(input(\"Enter your age: \"))\n",
    "print(f\"You are {age} years old\")"
   ]
  },
  {
   "cell_type": "markdown",
   "id": "bb813c55",
   "metadata": {},
   "source": [
    "14. Product of Two Numbers\n",
    "\n",
    "# Take two numbers as input and print their product.\n",
    "\n",
    "# Hint: Use the * operator to multiply the numbers."
   ]
  },
  {
   "cell_type": "code",
   "execution_count": 16,
   "id": "c2c1f356",
   "metadata": {},
   "outputs": [
    {
     "name": "stdout",
     "output_type": "stream",
     "text": [
      "Product: 98\n"
     ]
    }
   ],
   "source": [
    "num1 = int(input(\"Enter first number: \"))\n",
    "num2 = int(input(\"Enter second number: \"))\n",
    "product = num1 * num2\n",
    "print(\"Product:\", product)"
   ]
  },
  {
   "cell_type": "markdown",
   "id": "e9fdf060",
   "metadata": {},
   "source": [
    "15. String Length\n",
    "\n",
    "# Input a sentence and print its length using len().\n",
    "\n",
    "# Hint: Apply len() directly to the input string."
   ]
  },
  {
   "cell_type": "code",
   "execution_count": 17,
   "id": "5d305f76",
   "metadata": {},
   "outputs": [
    {
     "name": "stdout",
     "output_type": "stream",
     "text": [
      "Length of the sentence: 3\n"
     ]
    }
   ],
   "source": [
    "sentence = input(\"Enter a sentence: \")\n",
    "print(\"Length of the sentence:\", len(sentence))"
   ]
  },
  {
   "cell_type": "markdown",
   "id": "3e5de71b",
   "metadata": {},
   "source": [
    "16. Average of Three Numbers\n",
    "\n",
    "# Take three numbers as input and print their average.\n",
    "\n",
    "# Hint: Sum the numbers and divide by 3, use parentheses for clarity."
   ]
  },
  {
   "cell_type": "code",
   "execution_count": 18,
   "id": "0d4f1fe2",
   "metadata": {},
   "outputs": [
    {
     "name": "stdout",
     "output_type": "stream",
     "text": [
      "Average of three numbers: 14.0\n"
     ]
    }
   ],
   "source": [
    "num1 = float(input(\"Enter first number: \"))\n",
    "num2 = float(input(\"Enter second number: \"))\n",
    "num3 = float(input(\"Enter third number: \"))\n",
    "\n",
    "average = (num1 + num2 + num3) / 3\n",
    "print(\"Average of three numbers:\", average)"
   ]
  },
  {
   "cell_type": "markdown",
   "id": "b3d94c6a",
   "metadata": {},
   "source": [
    "17. Absolute Value\n",
    "\n",
    "# Input a number and print its absolute value using abs().\n",
    "\n",
    "# Hint: Use the built-in abs() function."
   ]
  },
  {
   "cell_type": "code",
   "execution_count": 19,
   "id": "9618e3e2",
   "metadata": {},
   "outputs": [
    {
     "name": "stdout",
     "output_type": "stream",
     "text": [
      "Absolute value: 7.0\n"
     ]
    }
   ],
   "source": [
    "num = float(input(\"Enter a number: \"))\n",
    "print(\"Absolute value:\", abs(num))"
   ]
  },
  {
   "cell_type": "markdown",
   "id": "e0166c49",
   "metadata": {},
   "source": [
    "18. Difference of Two Numbers\n",
    "\n",
    "# Take two numbers as input and print their difference.\n",
    "\n",
    "# Hint: Subtract the second number from the first using the - operator."
   ]
  },
  {
   "cell_type": "code",
   "execution_count": 20,
   "id": "c4afd412",
   "metadata": {},
   "outputs": [
    {
     "name": "stdout",
     "output_type": "stream",
     "text": [
      "Difference: -1.0\n"
     ]
    }
   ],
   "source": [
    "num1 = float(input(\"Enter first number: \"))\n",
    "num2 = float(input(\"Enter second number: \"))\n",
    "print(\"Difference:\", num1 - num2)"
   ]
  },
  {
   "cell_type": "markdown",
   "id": "0beb615d",
   "metadata": {},
   "source": [
    "19. String Reversal\n",
    "\n",
    "# Input a string and print it reversed using slicing.\n",
    "\n",
    "# Hint: Use slicing with [::-1] to reverse the string."
   ]
  },
  {
   "cell_type": "code",
   "execution_count": 21,
   "id": "09a6fc40",
   "metadata": {},
   "outputs": [
    {
     "name": "stdout",
     "output_type": "stream",
     "text": [
      "Reversed string: vahdam\n"
     ]
    }
   ],
   "source": [
    "text = input(\"Enter a string: \")\n",
    "print(\"Reversed string:\", text[::-1])"
   ]
  },
  {
   "cell_type": "markdown",
   "id": "d47b0916",
   "metadata": {},
   "source": [
    "20. Height Conversion\n",
    "\n",
    "# Input height in centimeters and print it converted to meters.\n",
    "\n",
    "# Hint: Divide the height by 100 to convert cm to meters."
   ]
  },
  {
   "cell_type": "code",
   "execution_count": 22,
   "id": "55d48315",
   "metadata": {},
   "outputs": [
    {
     "name": "stdout",
     "output_type": "stream",
     "text": [
      "Height in meters: 0.057800000000000004\n"
     ]
    }
   ],
   "source": [
    "height_cm = float(input(\"Enter height in cm: \"))\n",
    "height_m = height_cm / 100\n",
    "print(\"Height in meters:\", height_m)"
   ]
  },
  {
   "cell_type": "markdown",
   "id": "4b87e0b8",
   "metadata": {},
   "source": [
    "21. Quotient of Two Numbers\n",
    "\n",
    "# Take two numbers as input and print their quotient.\n",
    "\n",
    "# Hint: Use the / operator for division."
   ]
  },
  {
   "cell_type": "code",
   "execution_count": 23,
   "id": "46141231",
   "metadata": {},
   "outputs": [
    {
     "name": "stdout",
     "output_type": "stream",
     "text": [
      "Quotient: 1.0\n"
     ]
    }
   ],
   "source": [
    "num1 = float(input(\"Enter first number: \"))\n",
    "num2 = float(input(\"Enter second number: \"))\n",
    "print(\"Quotient:\", num1 / num2)"
   ]
  },
  {
   "cell_type": "markdown",
   "id": "e0aea5f0",
   "metadata": {},
   "source": [
    "22. Quoted Name\n",
    "\n",
    "# Input a name and print it surrounded by double quotes.\n",
    "\n",
    "# Hint: Use f-string like f’”{name}”’ or concatenation with quotes."
   ]
  },
  {
   "cell_type": "code",
   "execution_count": 24,
   "id": "e5b61f2f",
   "metadata": {},
   "outputs": [
    {
     "name": "stdout",
     "output_type": "stream",
     "text": [
      "\"maddipati\"\n"
     ]
    }
   ],
   "source": [
    "name = input(\"Enter your name: \")\n",
    "print(f'\"{name}\"')"
   ]
  },
  {
   "cell_type": "markdown",
   "id": "b46223ef",
   "metadata": {},
   "source": [
    "23. Formatted Number\n",
    "\n",
    "# Take a number as input and print it rounded to 2 decimal places.\n",
    "\n",
    "# Hint: Use round(number, 2) to round to 2 decimal places."
   ]
  },
  {
   "cell_type": "code",
   "execution_count": 25,
   "id": "2066cddd",
   "metadata": {},
   "outputs": [
    {
     "name": "stdout",
     "output_type": "stream",
     "text": [
      "Formatted number: 7.0\n"
     ]
    }
   ],
   "source": [
    "num = float(input(\"Enter a number: \"))\n",
    "print(\"Formatted number:\", round(num, 2))"
   ]
  },
  {
   "cell_type": "markdown",
   "id": "8d52b32a",
   "metadata": {},
   "source": [
    "24. String Separation\n",
    "\n",
    "# Input two strings and print them separated by a space.\n",
    "\n",
    "# Hint: Use f-string like f”{str1} {str2}” or concatenation with a space."
   ]
  },
  {
   "cell_type": "code",
   "execution_count": 26,
   "id": "1d4a36bb",
   "metadata": {},
   "outputs": [
    {
     "name": "stdout",
     "output_type": "stream",
     "text": [
      "madhav bhuvan\n"
     ]
    }
   ],
   "source": [
    "str1 = input(\"Enter first string: \")\n",
    "str2 = input(\"Enter second string: \")\n",
    "\n",
    "print(f\"{str1} {str2}\")"
   ]
  },
  {
   "cell_type": "markdown",
   "id": "116ded6a",
   "metadata": {},
   "source": [
    "25. Type of Input\n",
    "\n",
    "# Take any input and print its type using type().\n",
    "\n",
    "# Hint: Apply type() to the input variable."
   ]
  },
  {
   "cell_type": "code",
   "execution_count": 27,
   "id": "5609515e",
   "metadata": {},
   "outputs": [
    {
     "name": "stdout",
     "output_type": "stream",
     "text": [
      "Type of input: <class 'str'>\n"
     ]
    }
   ],
   "source": [
    "value = input(\"Enter something: \")\n",
    "print(\"Type of input:\", type(value))"
   ]
  },
  {
   "cell_type": "markdown",
   "id": "9547c73d",
   "metadata": {},
   "source": [
    "26. Sum and Product\n",
    "\n",
    "# Input three numbers and print their sum and their product.\n",
    "\n",
    "# Hint: Calculate sum with + and product with *, print both."
   ]
  },
  {
   "cell_type": "code",
   "execution_count": 28,
   "id": "256884cd",
   "metadata": {},
   "outputs": [
    {
     "name": "stdout",
     "output_type": "stream",
     "text": [
      "Sum: 21.0\n",
      "Product: 336.0\n"
     ]
    }
   ],
   "source": [
    "num1 = float(input(\"Enter first number: \"))\n",
    "num2 = float(input(\"Enter second number: \"))\n",
    "num3 = float(input(\"Enter third number: \"))\n",
    "\n",
    "sum_result = num1 + num2 + num3\n",
    "product_result = num1 * num2 * num3\n",
    "\n",
    "print(\"Sum:\", sum_result)\n",
    "print(\"Product:\", product_result)"
   ]
  }
 ],
 "metadata": {
  "kernelspec": {
   "display_name": "Python 3",
   "language": "python",
   "name": "python3"
  },
  "language_info": {
   "codemirror_mode": {
    "name": "ipython",
    "version": 3
   },
   "file_extension": ".py",
   "mimetype": "text/x-python",
   "name": "python",
   "nbconvert_exporter": "python",
   "pygments_lexer": "ipython3",
   "version": "3.13.6"
  }
 },
 "nbformat": 4,
 "nbformat_minor": 5
}
